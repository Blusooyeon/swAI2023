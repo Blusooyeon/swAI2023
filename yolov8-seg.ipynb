{
  "cells": [
    {
      "cell_type": "code",
      "execution_count": null,
      "metadata": {
        "colab": {
          "base_uri": "https://localhost:8080/"
        },
        "id": "Npkq_ZthoJDE",
        "outputId": "e5e230b6-e2a3-4252-9f97-a58727783542"
      },
      "outputs": [
        {
          "name": "stdout",
          "output_type": "stream",
          "text": [
            "Cloning into 'ultralytics'...\n",
            "remote: Enumerating objects: 12909, done.\u001b[K\n",
            "remote: Counting objects: 100% (570/570), done.\u001b[K\n",
            "remote: Compressing objects: 100% (462/462), done.\u001b[K\n",
            "remote: Total 12909 (delta 215), reused 397 (delta 104), pack-reused 12339\u001b[K\n",
            "Receiving objects: 100% (12909/12909), 7.84 MiB | 22.30 MiB/s, done.\n",
            "Resolving deltas: 100% (8535/8535), done.\n",
            "\u001b[31mERROR: Could not open requirements file: [Errno 2] No such file or directory: 'requirements.txt'\u001b[0m\u001b[31m\n",
            "\u001b[0m"
          ]
        }
      ],
      "source": [
        "!git clone https://github.com/ultralytics/ultralytics.git\n",
        "import ultralytics\n",
        "!pip install -r requirements.txt"
      ]
    },
    {
      "cell_type": "code",
      "execution_count": null,
      "metadata": {
        "colab": {
          "base_uri": "https://localhost:8080/"
        },
        "id": "i2e41sY_oK16",
        "outputId": "501b0034-927f-497a-906b-3aac1831573b"
      },
      "outputs": [
        {
          "name": "stdout",
          "output_type": "stream",
          "text": [
            "Requirement already satisfied: matplotlib>=3.2.2 in /usr/local/lib/python3.10/dist-packages (from -r ultralytics/requirements.txt (line 5)) (3.7.1)\n",
            "Requirement already satisfied: opencv-python>=4.6.0 in /usr/local/lib/python3.10/dist-packages (from -r ultralytics/requirements.txt (line 6)) (4.7.0.72)\n",
            "Requirement already satisfied: pillow>=7.1.2 in /usr/local/lib/python3.10/dist-packages (from -r ultralytics/requirements.txt (line 7)) (8.4.0)\n",
            "Requirement already satisfied: pyyaml>=5.3.1 in /usr/local/lib/python3.10/dist-packages (from -r ultralytics/requirements.txt (line 8)) (6.0.1)\n",
            "Requirement already satisfied: requests>=2.23.0 in /usr/local/lib/python3.10/dist-packages (from -r ultralytics/requirements.txt (line 9)) (2.27.1)\n",
            "Requirement already satisfied: scipy>=1.4.1 in /usr/local/lib/python3.10/dist-packages (from -r ultralytics/requirements.txt (line 10)) (1.10.1)\n",
            "Requirement already satisfied: torch>=1.7.0 in /usr/local/lib/python3.10/dist-packages (from -r ultralytics/requirements.txt (line 11)) (2.0.1+cu118)\n",
            "Requirement already satisfied: torchvision>=0.8.1 in /usr/local/lib/python3.10/dist-packages (from -r ultralytics/requirements.txt (line 12)) (0.15.2+cu118)\n",
            "Requirement already satisfied: tqdm>=4.64.0 in /usr/local/lib/python3.10/dist-packages (from -r ultralytics/requirements.txt (line 13)) (4.65.0)\n",
            "Requirement already satisfied: pandas>=1.1.4 in /usr/local/lib/python3.10/dist-packages (from -r ultralytics/requirements.txt (line 22)) (1.5.3)\n",
            "Requirement already satisfied: seaborn>=0.11.0 in /usr/local/lib/python3.10/dist-packages (from -r ultralytics/requirements.txt (line 23)) (0.12.2)\n",
            "Requirement already satisfied: psutil in /usr/local/lib/python3.10/dist-packages (from -r ultralytics/requirements.txt (line 38)) (5.9.5)\n",
            "Requirement already satisfied: py-cpuinfo in /usr/local/lib/python3.10/dist-packages (from -r ultralytics/requirements.txt (line 39)) (9.0.0)\n",
            "Requirement already satisfied: contourpy>=1.0.1 in /usr/local/lib/python3.10/dist-packages (from matplotlib>=3.2.2->-r ultralytics/requirements.txt (line 5)) (1.1.0)\n",
            "Requirement already satisfied: cycler>=0.10 in /usr/local/lib/python3.10/dist-packages (from matplotlib>=3.2.2->-r ultralytics/requirements.txt (line 5)) (0.11.0)\n",
            "Requirement already satisfied: fonttools>=4.22.0 in /usr/local/lib/python3.10/dist-packages (from matplotlib>=3.2.2->-r ultralytics/requirements.txt (line 5)) (4.41.0)\n",
            "Requirement already satisfied: kiwisolver>=1.0.1 in /usr/local/lib/python3.10/dist-packages (from matplotlib>=3.2.2->-r ultralytics/requirements.txt (line 5)) (1.4.4)\n",
            "Requirement already satisfied: numpy>=1.20 in /usr/local/lib/python3.10/dist-packages (from matplotlib>=3.2.2->-r ultralytics/requirements.txt (line 5)) (1.22.4)\n",
            "Requirement already satisfied: packaging>=20.0 in /usr/local/lib/python3.10/dist-packages (from matplotlib>=3.2.2->-r ultralytics/requirements.txt (line 5)) (23.1)\n",
            "Requirement already satisfied: pyparsing>=2.3.1 in /usr/local/lib/python3.10/dist-packages (from matplotlib>=3.2.2->-r ultralytics/requirements.txt (line 5)) (3.1.0)\n",
            "Requirement already satisfied: python-dateutil>=2.7 in /usr/local/lib/python3.10/dist-packages (from matplotlib>=3.2.2->-r ultralytics/requirements.txt (line 5)) (2.8.2)\n",
            "Requirement already satisfied: urllib3<1.27,>=1.21.1 in /usr/local/lib/python3.10/dist-packages (from requests>=2.23.0->-r ultralytics/requirements.txt (line 9)) (1.26.16)\n",
            "Requirement already satisfied: certifi>=2017.4.17 in /usr/local/lib/python3.10/dist-packages (from requests>=2.23.0->-r ultralytics/requirements.txt (line 9)) (2023.5.7)\n",
            "Requirement already satisfied: charset-normalizer~=2.0.0 in /usr/local/lib/python3.10/dist-packages (from requests>=2.23.0->-r ultralytics/requirements.txt (line 9)) (2.0.12)\n",
            "Requirement already satisfied: idna<4,>=2.5 in /usr/local/lib/python3.10/dist-packages (from requests>=2.23.0->-r ultralytics/requirements.txt (line 9)) (3.4)\n",
            "Requirement already satisfied: filelock in /usr/local/lib/python3.10/dist-packages (from torch>=1.7.0->-r ultralytics/requirements.txt (line 11)) (3.12.2)\n",
            "Requirement already satisfied: typing-extensions in /usr/local/lib/python3.10/dist-packages (from torch>=1.7.0->-r ultralytics/requirements.txt (line 11)) (4.7.1)\n",
            "Requirement already satisfied: sympy in /usr/local/lib/python3.10/dist-packages (from torch>=1.7.0->-r ultralytics/requirements.txt (line 11)) (1.11.1)\n",
            "Requirement already satisfied: networkx in /usr/local/lib/python3.10/dist-packages (from torch>=1.7.0->-r ultralytics/requirements.txt (line 11)) (3.1)\n",
            "Requirement already satisfied: jinja2 in /usr/local/lib/python3.10/dist-packages (from torch>=1.7.0->-r ultralytics/requirements.txt (line 11)) (3.1.2)\n",
            "Requirement already satisfied: triton==2.0.0 in /usr/local/lib/python3.10/dist-packages (from torch>=1.7.0->-r ultralytics/requirements.txt (line 11)) (2.0.0)\n",
            "Requirement already satisfied: cmake in /usr/local/lib/python3.10/dist-packages (from triton==2.0.0->torch>=1.7.0->-r ultralytics/requirements.txt (line 11)) (3.25.2)\n",
            "Requirement already satisfied: lit in /usr/local/lib/python3.10/dist-packages (from triton==2.0.0->torch>=1.7.0->-r ultralytics/requirements.txt (line 11)) (16.0.6)\n",
            "Requirement already satisfied: pytz>=2020.1 in /usr/local/lib/python3.10/dist-packages (from pandas>=1.1.4->-r ultralytics/requirements.txt (line 22)) (2022.7.1)\n",
            "Requirement already satisfied: six>=1.5 in /usr/local/lib/python3.10/dist-packages (from python-dateutil>=2.7->matplotlib>=3.2.2->-r ultralytics/requirements.txt (line 5)) (1.16.0)\n",
            "Requirement already satisfied: MarkupSafe>=2.0 in /usr/local/lib/python3.10/dist-packages (from jinja2->torch>=1.7.0->-r ultralytics/requirements.txt (line 11)) (2.1.3)\n",
            "Requirement already satisfied: mpmath>=0.19 in /usr/local/lib/python3.10/dist-packages (from sympy->torch>=1.7.0->-r ultralytics/requirements.txt (line 11)) (1.3.0)\n"
          ]
        }
      ],
      "source": [
        "!pip install -r ultralytics/requirements.txt"
      ]
    },
    {
      "cell_type": "markdown",
      "metadata": {
        "id": "Otpp2vCV9kPt"
      },
      "source": []
    },
    {
      "cell_type": "code",
      "execution_count": null,
      "metadata": {
        "colab": {
          "base_uri": "https://localhost:8080/"
        },
        "id": "x0oPyCo3oM96",
        "outputId": "65443de2-dd7e-4135-b621-5ade92ef7a52"
      },
      "outputs": [
        {
          "name": "stdout",
          "output_type": "stream",
          "text": [
            "Collecting ultralytics\n",
            "  Downloading ultralytics-8.0.143-py3-none-any.whl (604 kB)\n",
            "\u001b[?25l     \u001b[90m━━━━━━━━━━━━━━━━━━━━━━━━━━━━━━━━━━━━━━━━\u001b[0m \u001b[32m0.0/605.0 kB\u001b[0m \u001b[31m?\u001b[0m eta \u001b[36m-:--:--\u001b[0m\r\u001b[2K     \u001b[91m━━━━━━━\u001b[0m\u001b[91m╸\u001b[0m\u001b[90m━━━━━━━━━━━━━━━━━━━━━━━━━━━━━━━\u001b[0m \u001b[32m122.9/605.0 kB\u001b[0m \u001b[31m3.6 MB/s\u001b[0m eta \u001b[36m0:00:01\u001b[0m\r\u001b[2K     \u001b[90m━━━━━━━━━━━━━━━━━━━━━━━━━━━━━━━━━━━━━━\u001b[0m \u001b[32m605.0/605.0 kB\u001b[0m \u001b[31m11.6 MB/s\u001b[0m eta \u001b[36m0:00:00\u001b[0m\n",
            "\u001b[?25hRequirement already satisfied: matplotlib>=3.2.2 in /usr/local/lib/python3.10/dist-packages (from ultralytics) (3.7.1)\n",
            "Requirement already satisfied: opencv-python>=4.6.0 in /usr/local/lib/python3.10/dist-packages (from ultralytics) (4.7.0.72)\n",
            "Requirement already satisfied: pillow>=7.1.2 in /usr/local/lib/python3.10/dist-packages (from ultralytics) (9.4.0)\n",
            "Requirement already satisfied: pyyaml>=5.3.1 in /usr/local/lib/python3.10/dist-packages (from ultralytics) (6.0.1)\n",
            "Requirement already satisfied: requests>=2.23.0 in /usr/local/lib/python3.10/dist-packages (from ultralytics) (2.27.1)\n",
            "Requirement already satisfied: scipy>=1.4.1 in /usr/local/lib/python3.10/dist-packages (from ultralytics) (1.10.1)\n",
            "Requirement already satisfied: torch>=1.7.0 in /usr/local/lib/python3.10/dist-packages (from ultralytics) (2.0.1+cu118)\n",
            "Requirement already satisfied: torchvision>=0.8.1 in /usr/local/lib/python3.10/dist-packages (from ultralytics) (0.15.2+cu118)\n",
            "Requirement already satisfied: tqdm>=4.64.0 in /usr/local/lib/python3.10/dist-packages (from ultralytics) (4.65.0)\n",
            "Requirement already satisfied: pandas>=1.1.4 in /usr/local/lib/python3.10/dist-packages (from ultralytics) (1.5.3)\n",
            "Requirement already satisfied: seaborn>=0.11.0 in /usr/local/lib/python3.10/dist-packages (from ultralytics) (0.12.2)\n",
            "Requirement already satisfied: psutil in /usr/local/lib/python3.10/dist-packages (from ultralytics) (5.9.5)\n",
            "Requirement already satisfied: py-cpuinfo in /usr/local/lib/python3.10/dist-packages (from ultralytics) (9.0.0)\n",
            "Requirement already satisfied: contourpy>=1.0.1 in /usr/local/lib/python3.10/dist-packages (from matplotlib>=3.2.2->ultralytics) (1.1.0)\n",
            "Requirement already satisfied: cycler>=0.10 in /usr/local/lib/python3.10/dist-packages (from matplotlib>=3.2.2->ultralytics) (0.11.0)\n",
            "Requirement already satisfied: fonttools>=4.22.0 in /usr/local/lib/python3.10/dist-packages (from matplotlib>=3.2.2->ultralytics) (4.41.1)\n",
            "Requirement already satisfied: kiwisolver>=1.0.1 in /usr/local/lib/python3.10/dist-packages (from matplotlib>=3.2.2->ultralytics) (1.4.4)\n",
            "Requirement already satisfied: numpy>=1.20 in /usr/local/lib/python3.10/dist-packages (from matplotlib>=3.2.2->ultralytics) (1.22.4)\n",
            "Requirement already satisfied: packaging>=20.0 in /usr/local/lib/python3.10/dist-packages (from matplotlib>=3.2.2->ultralytics) (23.1)\n",
            "Requirement already satisfied: pyparsing>=2.3.1 in /usr/local/lib/python3.10/dist-packages (from matplotlib>=3.2.2->ultralytics) (3.1.0)\n",
            "Requirement already satisfied: python-dateutil>=2.7 in /usr/local/lib/python3.10/dist-packages (from matplotlib>=3.2.2->ultralytics) (2.8.2)\n",
            "Requirement already satisfied: pytz>=2020.1 in /usr/local/lib/python3.10/dist-packages (from pandas>=1.1.4->ultralytics) (2022.7.1)\n",
            "Requirement already satisfied: urllib3<1.27,>=1.21.1 in /usr/local/lib/python3.10/dist-packages (from requests>=2.23.0->ultralytics) (1.26.16)\n",
            "Requirement already satisfied: certifi>=2017.4.17 in /usr/local/lib/python3.10/dist-packages (from requests>=2.23.0->ultralytics) (2023.7.22)\n",
            "Requirement already satisfied: charset-normalizer~=2.0.0 in /usr/local/lib/python3.10/dist-packages (from requests>=2.23.0->ultralytics) (2.0.12)\n",
            "Requirement already satisfied: idna<4,>=2.5 in /usr/local/lib/python3.10/dist-packages (from requests>=2.23.0->ultralytics) (3.4)\n",
            "Requirement already satisfied: filelock in /usr/local/lib/python3.10/dist-packages (from torch>=1.7.0->ultralytics) (3.12.2)\n",
            "Requirement already satisfied: typing-extensions in /usr/local/lib/python3.10/dist-packages (from torch>=1.7.0->ultralytics) (4.7.1)\n",
            "Requirement already satisfied: sympy in /usr/local/lib/python3.10/dist-packages (from torch>=1.7.0->ultralytics) (1.11.1)\n",
            "Requirement already satisfied: networkx in /usr/local/lib/python3.10/dist-packages (from torch>=1.7.0->ultralytics) (3.1)\n",
            "Requirement already satisfied: jinja2 in /usr/local/lib/python3.10/dist-packages (from torch>=1.7.0->ultralytics) (3.1.2)\n",
            "Requirement already satisfied: triton==2.0.0 in /usr/local/lib/python3.10/dist-packages (from torch>=1.7.0->ultralytics) (2.0.0)\n",
            "Requirement already satisfied: cmake in /usr/local/lib/python3.10/dist-packages (from triton==2.0.0->torch>=1.7.0->ultralytics) (3.25.2)\n",
            "Requirement already satisfied: lit in /usr/local/lib/python3.10/dist-packages (from triton==2.0.0->torch>=1.7.0->ultralytics) (16.0.6)\n",
            "Requirement already satisfied: six>=1.5 in /usr/local/lib/python3.10/dist-packages (from python-dateutil>=2.7->matplotlib>=3.2.2->ultralytics) (1.16.0)\n",
            "Requirement already satisfied: MarkupSafe>=2.0 in /usr/local/lib/python3.10/dist-packages (from jinja2->torch>=1.7.0->ultralytics) (2.1.3)\n",
            "Requirement already satisfied: mpmath>=0.19 in /usr/local/lib/python3.10/dist-packages (from sympy->torch>=1.7.0->ultralytics) (1.3.0)\n",
            "Installing collected packages: ultralytics\n",
            "Successfully installed ultralytics-8.0.143\n"
          ]
        }
      ],
      "source": [
        "!pip install ultralytics"
      ]
    },
    {
      "cell_type": "code",
      "execution_count": null,
      "metadata": {
        "colab": {
          "base_uri": "https://localhost:8080/"
        },
        "id": "zuRreo3IoUWR",
        "outputId": "f6810171-8190-4833-c811-16c3f5fcd255"
      },
      "outputs": [
        {
          "name": "stdout",
          "output_type": "stream",
          "text": [
            "\u001b[31mERROR: Could not find a version that satisfies the requirement cv2 (from versions: none)\u001b[0m\u001b[31m\n",
            "\u001b[0m\u001b[31mERROR: No matching distribution found for cv2\u001b[0m\u001b[31m\n",
            "\u001b[0m\u001b[31mERROR: Could not find a version that satisfies the requirement PIL (from versions: none)\u001b[0m\u001b[31m\n",
            "\u001b[0m\u001b[31mERROR: No matching distribution found for PIL\u001b[0m\u001b[31m\n",
            "\u001b[0m"
          ]
        }
      ],
      "source": [
        "!pip install cv2\n",
        "!pip install PIL"
      ]
    },
    {
      "cell_type": "code",
      "execution_count": null,
      "metadata": {
        "id": "d1Plfo81-QYg"
      },
      "outputs": [],
      "source": [
        "!unzip -qq '/content/drive/MyDrive/segmentation/open.zip' -d '/content/'\n",
        "!unzip -qq '/content/drive/MyDrive/The_End.zip' -d '/content/label'"
      ]
    },
    {
      "cell_type": "code",
      "execution_count": null,
      "metadata": {
        "colab": {
          "base_uri": "https://localhost:8080/"
        },
        "id": "mQeXRx_GDmd1",
        "outputId": "f5b3297e-b285-4684-fa6f-5c1216f0e8f5"
      },
      "outputs": [
        {
          "name": "stdout",
          "output_type": "stream",
          "text": [
            "Drive already mounted at /content/drive; to attempt to forcibly remount, call drive.mount(\"/content/drive\", force_remount=True).\n"
          ]
        }
      ],
      "source": [
        "from google.colab import drive\n",
        "drive.mount('/content/drive')"
      ]
    },
    {
      "cell_type": "code",
      "execution_count": null,
      "metadata": {
        "colab": {
          "base_uri": "https://localhost:8080/"
        },
        "id": "PujCvfFCoggo",
        "outputId": "d517bbba-9bd8-4a10-cda5-0e717bdb70e7"
      },
      "outputs": [
        {
          "name": "stdout",
          "output_type": "stream",
          "text": [
            "540\n"
          ]
        }
      ],
      "source": [
        "import os\n",
        "\n",
        "folder_path = \"/content/val/labels/\"\n",
        "file_list = os.listdir(folder_path)\n",
        "file_count = len(file_list)\n",
        "print(file_count)"
      ]
    },
    {
      "cell_type": "code",
      "execution_count": null,
      "metadata": {
        "id": "N6dVULGp4J5c"
      },
      "outputs": [],
      "source": [
        "from ultralytics import YOLO\n",
        "\n",
        "# Load a model\n",
        "model = YOLO(\"yolov8x-seg.pt\")"
      ]
    },
    {
      "cell_type": "code",
      "execution_count": null,
      "metadata": {
        "colab": {
          "base_uri": "https://localhost:8080/",
          "height": 35
        },
        "id": "Op1C1vxJ4dDO",
        "outputId": "b986e34d-2029-4f27-a3f2-ec3ae7291633"
      },
      "outputs": [
        {
          "data": {
            "application/vnd.google.colaboratory.intrinsic+json": {
              "type": "string"
            },
            "text/plain": [
              "'/content/Hoin.pt'"
            ]
          },
          "execution_count": 9,
          "metadata": {},
          "output_type": "execute_result"
        }
      ],
      "source": [
        "shutil.move(\"/content/drive/MyDrive/Hoin.pt\", \"/content/\")"
      ]
    },
    {
      "cell_type": "code",
      "execution_count": null,
      "metadata": {
        "id": "CgkyfsbrVULX"
      },
      "outputs": [],
      "source": [
        "import shutil\n",
        "#shutil.move(\"/content/drive/MyDrive/Hoin.yaml\", \"/content/\")\n",
        "#shutil.move(\"/content/test_img\", \"/content/test\")\n",
        "for i in range(0,7140) :\n",
        "  file_prefix = \"/content/train_img/TRAIN_\"\n",
        "  file_name = f\"{file_prefix}{i:04}.png\"\n",
        "  shutil.move(file_name, '/content/train/images/')\n",
        "for i in range(0,7140) :\n",
        "  file_prefix = \"/content/label/home/hawk/decs_jupyter_lab/dataset/converted_4/TRAIN_\"\n",
        "  file_name = f\"{file_prefix}{i:04}.txt\"\n",
        "  shutil.move(file_name, '/content/train/labels/')\n",
        "for i in range(1000,7140) :\n",
        "  file_prefix = \"/content/val/images/transpose_TRAIN_\"\n",
        "  file_name = f\"{file_prefix}{i:04}.png\"\n",
        "  shutil.move(file_name, '/content/garbage/')\n",
        "for i in range(1000,7140) :\n",
        "  file_prefix = \"/content/val/labels/transpose_TRAIN_\"\n",
        "  file_name = f\"{file_prefix}{i:04}.txt\"\n",
        "  shutil.move(file_name, '/content/garbage/')\n",
        "\n",
        "\n"
      ]
    },
    {
      "cell_type": "code",
      "execution_count": null,
      "metadata": {
        "colab": {
          "base_uri": "https://localhost:8080/",
          "height": 882
        },
        "id": "66g2LZBSKxRN",
        "outputId": "1f7f4423-3cc2-4608-e0b8-21f5b48e8213"
      },
      "outputs": [
        {
          "name": "stdout",
          "output_type": "stream",
          "text": [
            "Collecting ultralytics\n",
            "  Downloading ultralytics-8.0.138-py3-none-any.whl (605 kB)\n",
            "\u001b[?25l     \u001b[90m━━━━━━━━━━━━━━━━━━━━━━━━━━━━━━━━━━━━━━━━\u001b[0m \u001b[32m0.0/605.5 kB\u001b[0m \u001b[31m?\u001b[0m eta \u001b[36m-:--:--\u001b[0m\r\u001b[2K     \u001b[91m━━━━\u001b[0m\u001b[91m╸\u001b[0m\u001b[90m━━━━━━━━━━━━━━━━━━━━━━━━━━━━━━━━━━━\u001b[0m \u001b[32m71.7/605.5 kB\u001b[0m \u001b[31m2.0 MB/s\u001b[0m eta \u001b[36m0:00:01\u001b[0m\r\u001b[2K     \u001b[91m━━━━━━━━━━━━━━━━━━━━━━━━━━━━━━━━━━━━━\u001b[0m\u001b[91m╸\u001b[0m \u001b[32m604.2/605.5 kB\u001b[0m \u001b[31m11.7 MB/s\u001b[0m eta \u001b[36m0:00:01\u001b[0m\r\u001b[2K     \u001b[90m━━━━━━━━━━━━━━━━━━━━━━━━━━━━━━━━━━━━━━━\u001b[0m \u001b[32m605.5/605.5 kB\u001b[0m \u001b[31m8.5 MB/s\u001b[0m eta \u001b[36m0:00:00\u001b[0m\n",
            "\u001b[?25hRequirement already satisfied: matplotlib>=3.2.2 in /usr/local/lib/python3.10/dist-packages (from ultralytics) (3.7.1)\n",
            "Requirement already satisfied: opencv-python>=4.6.0 in /usr/local/lib/python3.10/dist-packages (from ultralytics) (4.7.0.72)\n",
            "Requirement already satisfied: Pillow>=7.1.2 in /usr/local/lib/python3.10/dist-packages (from ultralytics) (8.4.0)\n",
            "Requirement already satisfied: PyYAML>=5.3.1 in /usr/local/lib/python3.10/dist-packages (from ultralytics) (6.0)\n",
            "Requirement already satisfied: requests>=2.23.0 in /usr/local/lib/python3.10/dist-packages (from ultralytics) (2.27.1)\n",
            "Requirement already satisfied: scipy>=1.4.1 in /usr/local/lib/python3.10/dist-packages (from ultralytics) (1.10.1)\n",
            "Requirement already satisfied: torch>=1.7.0 in /usr/local/lib/python3.10/dist-packages (from ultralytics) (2.0.1+cu118)\n",
            "Requirement already satisfied: torchvision>=0.8.1 in /usr/local/lib/python3.10/dist-packages (from ultralytics) (0.15.2+cu118)\n",
            "Requirement already satisfied: tqdm>=4.64.0 in /usr/local/lib/python3.10/dist-packages (from ultralytics) (4.65.0)\n",
            "Requirement already satisfied: pandas>=1.1.4 in /usr/local/lib/python3.10/dist-packages (from ultralytics) (1.5.3)\n",
            "Requirement already satisfied: seaborn>=0.11.0 in /usr/local/lib/python3.10/dist-packages (from ultralytics) (0.12.2)\n",
            "Requirement already satisfied: psutil in /usr/local/lib/python3.10/dist-packages (from ultralytics) (5.9.5)\n",
            "Requirement already satisfied: contourpy>=1.0.1 in /usr/local/lib/python3.10/dist-packages (from matplotlib>=3.2.2->ultralytics) (1.1.0)\n",
            "Requirement already satisfied: cycler>=0.10 in /usr/local/lib/python3.10/dist-packages (from matplotlib>=3.2.2->ultralytics) (0.11.0)\n",
            "Requirement already satisfied: fonttools>=4.22.0 in /usr/local/lib/python3.10/dist-packages (from matplotlib>=3.2.2->ultralytics) (4.41.0)\n",
            "Requirement already satisfied: kiwisolver>=1.0.1 in /usr/local/lib/python3.10/dist-packages (from matplotlib>=3.2.2->ultralytics) (1.4.4)\n",
            "Requirement already satisfied: numpy>=1.20 in /usr/local/lib/python3.10/dist-packages (from matplotlib>=3.2.2->ultralytics) (1.22.4)\n",
            "Requirement already satisfied: packaging>=20.0 in /usr/local/lib/python3.10/dist-packages (from matplotlib>=3.2.2->ultralytics) (23.1)\n",
            "Requirement already satisfied: pyparsing>=2.3.1 in /usr/local/lib/python3.10/dist-packages (from matplotlib>=3.2.2->ultralytics) (3.1.0)\n",
            "Requirement already satisfied: python-dateutil>=2.7 in /usr/local/lib/python3.10/dist-packages (from matplotlib>=3.2.2->ultralytics) (2.8.2)\n",
            "Requirement already satisfied: pytz>=2020.1 in /usr/local/lib/python3.10/dist-packages (from pandas>=1.1.4->ultralytics) (2022.7.1)\n",
            "Requirement already satisfied: urllib3<1.27,>=1.21.1 in /usr/local/lib/python3.10/dist-packages (from requests>=2.23.0->ultralytics) (1.26.16)\n",
            "Requirement already satisfied: certifi>=2017.4.17 in /usr/local/lib/python3.10/dist-packages (from requests>=2.23.0->ultralytics) (2023.5.7)\n",
            "Requirement already satisfied: charset-normalizer~=2.0.0 in /usr/local/lib/python3.10/dist-packages (from requests>=2.23.0->ultralytics) (2.0.12)\n",
            "Requirement already satisfied: idna<4,>=2.5 in /usr/local/lib/python3.10/dist-packages (from requests>=2.23.0->ultralytics) (3.4)\n",
            "Requirement already satisfied: filelock in /usr/local/lib/python3.10/dist-packages (from torch>=1.7.0->ultralytics) (3.12.2)\n",
            "Requirement already satisfied: typing-extensions in /usr/local/lib/python3.10/dist-packages (from torch>=1.7.0->ultralytics) (4.7.1)\n",
            "Requirement already satisfied: sympy in /usr/local/lib/python3.10/dist-packages (from torch>=1.7.0->ultralytics) (1.11.1)\n",
            "Requirement already satisfied: networkx in /usr/local/lib/python3.10/dist-packages (from torch>=1.7.0->ultralytics) (3.1)\n",
            "Requirement already satisfied: jinja2 in /usr/local/lib/python3.10/dist-packages (from torch>=1.7.0->ultralytics) (3.1.2)\n",
            "Requirement already satisfied: triton==2.0.0 in /usr/local/lib/python3.10/dist-packages (from torch>=1.7.0->ultralytics) (2.0.0)\n",
            "Requirement already satisfied: cmake in /usr/local/lib/python3.10/dist-packages (from triton==2.0.0->torch>=1.7.0->ultralytics) (3.25.2)\n",
            "Requirement already satisfied: lit in /usr/local/lib/python3.10/dist-packages (from triton==2.0.0->torch>=1.7.0->ultralytics) (16.0.6)\n",
            "Requirement already satisfied: six>=1.5 in /usr/local/lib/python3.10/dist-packages (from python-dateutil>=2.7->matplotlib>=3.2.2->ultralytics) (1.16.0)\n",
            "Requirement already satisfied: MarkupSafe>=2.0 in /usr/local/lib/python3.10/dist-packages (from jinja2->torch>=1.7.0->ultralytics) (2.1.3)\n",
            "Requirement already satisfied: mpmath>=0.19 in /usr/local/lib/python3.10/dist-packages (from sympy->torch>=1.7.0->ultralytics) (1.3.0)\n",
            "Installing collected packages: ultralytics\n",
            "Successfully installed ultralytics-8.0.138\n"
          ]
        },
        {
          "data": {
            "application/vnd.colab-display-data+json": {
              "pip_warning": {
                "packages": [
                  "ultralytics"
                ]
              }
            }
          },
          "metadata": {},
          "output_type": "display_data"
        }
      ],
      "source": [
        "!pip install ultralytics"
      ]
    },
    {
      "cell_type": "code",
      "execution_count": null,
      "metadata": {
        "colab": {
          "base_uri": "https://localhost:8080/",
          "height": 35
        },
        "id": "_9CJd80JLCkK",
        "outputId": "5685ff86-b416-4b86-c879-58bd479f55cc"
      },
      "outputs": [
        {
          "data": {
            "application/vnd.google.colaboratory.intrinsic+json": {
              "type": "string"
            },
            "text/plain": [
              "'/content/drive/MyDrive/super.pt'"
            ]
          },
          "execution_count": 18,
          "metadata": {},
          "output_type": "execute_result"
        }
      ],
      "source": [
        "import shutil\n",
        "shutil.move(\"/content/Aerial_Segmentation/train/weights/super.pt\", \"/content/drive/MyDrive/\")"
      ]
    },
    {
      "cell_type": "code",
      "execution_count": null,
      "metadata": {
        "colab": {
          "background_save": true,
          "base_uri": "https://localhost:8080/"
        },
        "id": "C6UqwbF8LbX7",
        "outputId": "24eb28cb-d40d-44ea-d761-26ff1245eec5"
      },
      "outputs": [
        {
          "name": "stderr",
          "output_type": "stream",
          "text": [
            "Ultralytics YOLOv8.0.143 🚀 Python-3.10.6 torch-2.0.1+cu118 CUDA:0 (NVIDIA A100-SXM4-40GB, 40514MiB)\n",
            "\u001b[34m\u001b[1mengine/trainer: \u001b[0mtask=segment, mode=train, model=yolov8x-seg.pt, data=/content/drive/MyDrive/Hoin.yaml, epochs=150, patience=5, batch=8, imgsz=1024, save=True, save_period=-1, cache=False, device=None, workers=16, project=Aerial_Segmentation, name=train, exist_ok=True, pretrained=False, optimizer=NAdam, verbose=True, seed=6666666, deterministic=True, single_cls=False, rect=False, cos_lr=True, close_mosaic=10, resume=False, amp=True, fraction=1.0, profile=False, overlap_mask=True, mask_ratio=4, dropout=0.0, val=True, split=val, save_json=False, save_hybrid=False, conf=None, iou=0.7, max_det=300, half=False, dnn=False, plots=True, source=None, show=False, save_txt=False, save_conf=False, save_crop=False, show_labels=True, show_conf=True, vid_stride=1, line_width=None, visualize=False, augment=False, agnostic_nms=False, classes=None, retina_masks=False, boxes=True, format=torchscript, keras=False, optimize=False, int8=False, dynamic=False, simplify=False, opset=None, workspace=4, nms=False, lr0=0.001, lrf=0.01, momentum=0.937, weight_decay=0.0005, warmup_epochs=3.0, warmup_momentum=0.8, warmup_bias_lr=0.1, box=7.5, cls=0.5, dfl=1.5, pose=12.0, kobj=1.0, label_smoothing=0.0, nbs=64, hsv_h=0.015, hsv_s=0.7, hsv_v=0.4, degrees=0.0, translate=0.1, scale=0.5, shear=0.0, perspective=0.0, flipud=0.0, fliplr=0.5, mosaic=1.0, mixup=0.0, copy_paste=0.0, cfg=None, tracker=botsort.yaml, save_dir=Aerial_Segmentation/train\n",
            "Overriding model.yaml nc=80 with nc=1\n",
            "\n",
            "                   from  n    params  module                                       arguments                     \n",
            "  0                  -1  1      2320  ultralytics.nn.modules.conv.Conv             [3, 80, 3, 2]                 \n",
            "  1                  -1  1    115520  ultralytics.nn.modules.conv.Conv             [80, 160, 3, 2]               \n",
            "  2                  -1  3    436800  ultralytics.nn.modules.block.C2f             [160, 160, 3, True]           \n",
            "  3                  -1  1    461440  ultralytics.nn.modules.conv.Conv             [160, 320, 3, 2]              \n",
            "  4                  -1  6   3281920  ultralytics.nn.modules.block.C2f             [320, 320, 6, True]           \n",
            "  5                  -1  1   1844480  ultralytics.nn.modules.conv.Conv             [320, 640, 3, 2]              \n",
            "  6                  -1  6  13117440  ultralytics.nn.modules.block.C2f             [640, 640, 6, True]           \n",
            "  7                  -1  1   3687680  ultralytics.nn.modules.conv.Conv             [640, 640, 3, 2]              \n",
            "  8                  -1  3   6969600  ultralytics.nn.modules.block.C2f             [640, 640, 3, True]           \n",
            "  9                  -1  1   1025920  ultralytics.nn.modules.block.SPPF            [640, 640, 5]                 \n",
            " 10                  -1  1         0  torch.nn.modules.upsampling.Upsample         [None, 2, 'nearest']          \n",
            " 11             [-1, 6]  1         0  ultralytics.nn.modules.conv.Concat           [1]                           \n",
            " 12                  -1  3   7379200  ultralytics.nn.modules.block.C2f             [1280, 640, 3]                \n",
            " 13                  -1  1         0  torch.nn.modules.upsampling.Upsample         [None, 2, 'nearest']          \n",
            " 14             [-1, 4]  1         0  ultralytics.nn.modules.conv.Concat           [1]                           \n",
            " 15                  -1  3   1948800  ultralytics.nn.modules.block.C2f             [960, 320, 3]                 \n",
            " 16                  -1  1    922240  ultralytics.nn.modules.conv.Conv             [320, 320, 3, 2]              \n",
            " 17            [-1, 12]  1         0  ultralytics.nn.modules.conv.Concat           [1]                           \n",
            " 18                  -1  3   7174400  ultralytics.nn.modules.block.C2f             [960, 640, 3]                 \n",
            " 19                  -1  1   3687680  ultralytics.nn.modules.conv.Conv             [640, 640, 3, 2]              \n",
            " 20             [-1, 9]  1         0  ultralytics.nn.modules.conv.Concat           [1]                           \n",
            " 21                  -1  3   7379200  ultralytics.nn.modules.block.C2f             [1280, 640, 3]                \n",
            " 22        [15, 18, 21]  1  12317171  ultralytics.nn.modules.head.Segment          [1, 32, 320, [320, 640, 640]] \n",
            "YOLOv8x-seg summary: 401 layers, 71751811 parameters, 71751795 gradients\n",
            "\n",
            "Transferred 651/657 items from pretrained weights\n",
            "\u001b[34m\u001b[1mTensorBoard: \u001b[0mStart with 'tensorboard --logdir Aerial_Segmentation/train', view at http://localhost:6006/\n",
            "\u001b[34m\u001b[1mAMP: \u001b[0mrunning Automatic Mixed Precision (AMP) checks with YOLOv8n...\n",
            "\u001b[34m\u001b[1mAMP: \u001b[0mchecks passed ✅\n",
            "\u001b[34m\u001b[1mtrain: \u001b[0mScanning /content/train/labels.cache... 7140 images, 1 backgrounds, 0 corrupt: 100%|██████████| 7140/7140 [00:00<?, ?it/s]\n",
            "\u001b[34m\u001b[1malbumentations: \u001b[0mBlur(p=0.01, blur_limit=(3, 7)), MedianBlur(p=0.01, blur_limit=(3, 7)), ToGray(p=0.01), CLAHE(p=0.01, clip_limit=(1, 4.0), tile_grid_size=(8, 8))\n",
            "\u001b[34m\u001b[1mval: \u001b[0mScanning /content/val/labels.cache... 1000 images, 1 backgrounds, 0 corrupt: 100%|██████████| 1000/1000 [00:00<?, ?it/s]\n",
            "Plotting labels to Aerial_Segmentation/train/labels.jpg... \n",
            "\u001b[34m\u001b[1moptimizer:\u001b[0m NAdam(lr=0.001, momentum=0.937) with parameter groups 106 weight(decay=0.0), 117 weight(decay=0.0005), 116 bias(decay=0.0)\n",
            "Image sizes 1024 train, 1024 val\n",
            "Using 8 dataloader workers\n",
            "Logging results to \u001b[1mAerial_Segmentation/train\u001b[0m\n",
            "Starting training for 150 epochs...\n",
            "\n",
            "      Epoch    GPU_mem   box_loss   seg_loss   cls_loss   dfl_loss  Instances       Size\n",
            "      1/150      36.9G      1.444      2.126     0.8938      1.058        378       1024: 100%|██████████| 893/893 [10:14<00:00,  1.45it/s]\n",
            "                 Class     Images  Instances      Box(P          R      mAP50  mAP50-95)     Mask(P          R      mAP50  mAP50-95): 100%|██████████| 63/63 [00:32<00:00,  1.92it/s]\n",
            "                   all       1000      65963      0.849      0.752      0.818      0.495      0.846      0.747      0.807      0.445\n",
            "\n",
            "      Epoch    GPU_mem   box_loss   seg_loss   cls_loss   dfl_loss  Instances       Size\n",
            "      2/150        35G      1.398      1.951     0.8001      1.046        525       1024: 100%|██████████| 893/893 [09:55<00:00,  1.50it/s]\n",
            "                 Class     Images  Instances      Box(P          R      mAP50  mAP50-95)     Mask(P          R      mAP50  mAP50-95): 100%|██████████| 63/63 [00:35<00:00,  1.79it/s]\n",
            "                   all       1000      65963      0.865      0.777      0.843       0.52      0.864      0.771      0.838      0.469\n",
            "\n",
            "      Epoch    GPU_mem   box_loss   seg_loss   cls_loss   dfl_loss  Instances       Size\n",
            "      3/150      32.8G      1.391      1.932     0.7824      1.045        169       1024: 100%|██████████| 893/893 [09:54<00:00,  1.50it/s]\n",
            "                 Class     Images  Instances      Box(P          R      mAP50  mAP50-95)     Mask(P          R      mAP50  mAP50-95): 100%|██████████| 63/63 [00:35<00:00,  1.78it/s]\n",
            "                   all       1000      65963      0.869      0.775      0.848      0.537      0.866      0.763      0.835      0.457\n",
            "\n",
            "      Epoch    GPU_mem   box_loss   seg_loss   cls_loss   dfl_loss  Instances       Size\n",
            "      4/150      35.8G      1.344      1.854     0.7518      1.029        134       1024: 100%|██████████| 893/893 [09:57<00:00,  1.49it/s]\n",
            "                 Class     Images  Instances      Box(P          R      mAP50  mAP50-95)     Mask(P          R      mAP50  mAP50-95): 100%|██████████| 63/63 [00:35<00:00,  1.78it/s]\n",
            "                   all       1000      65963      0.879      0.796      0.862      0.555      0.874      0.783      0.849      0.475\n",
            "\n",
            "      Epoch    GPU_mem   box_loss   seg_loss   cls_loss   dfl_loss  Instances       Size\n",
            "      5/150      34.3G      1.308      1.819     0.7127      1.014        348       1024: 100%|██████████| 893/893 [09:56<00:00,  1.50it/s]\n",
            "                 Class     Images  Instances      Box(P          R      mAP50  mAP50-95)     Mask(P          R      mAP50  mAP50-95): 100%|██████████| 63/63 [00:36<00:00,  1.74it/s]\n",
            "                   all       1000      65963      0.883      0.804      0.869      0.566      0.882      0.798      0.863      0.503\n",
            "\n",
            "      Epoch    GPU_mem   box_loss   seg_loss   cls_loss   dfl_loss  Instances       Size\n",
            "      6/150      34.5G       1.28      1.777     0.6886      1.006        312       1024: 100%|██████████| 893/893 [09:59<00:00,  1.49it/s]\n",
            "                 Class     Images  Instances      Box(P          R      mAP50  mAP50-95)     Mask(P          R      mAP50  mAP50-95): 100%|██████████| 63/63 [00:36<00:00,  1.72it/s]\n",
            "                   all       1000      65963      0.885      0.817      0.875      0.563       0.88      0.804      0.862      0.478\n",
            "\n",
            "      Epoch    GPU_mem   box_loss   seg_loss   cls_loss   dfl_loss  Instances       Size\n",
            "      7/150      37.7G      1.264      1.742     0.6754          1        255       1024: 100%|██████████| 893/893 [09:55<00:00,  1.50it/s]\n",
            "                 Class     Images  Instances      Box(P          R      mAP50  mAP50-95)     Mask(P          R      mAP50  mAP50-95): 100%|██████████| 63/63 [00:35<00:00,  1.76it/s]\n",
            "                   all       1000      65963      0.881      0.821      0.876      0.564      0.879      0.815       0.87      0.507\n",
            "\n",
            "      Epoch    GPU_mem   box_loss   seg_loss   cls_loss   dfl_loss  Instances       Size\n",
            "      8/150        33G      1.244      1.708     0.6637     0.9907        327       1024: 100%|██████████| 893/893 [09:56<00:00,  1.50it/s]\n",
            "                 Class     Images  Instances      Box(P          R      mAP50  mAP50-95)     Mask(P          R      mAP50  mAP50-95): 100%|██████████| 63/63 [00:35<00:00,  1.79it/s]\n",
            "                   all       1000      65963      0.887      0.819      0.875       0.57      0.882      0.806      0.863      0.491\n",
            "\n",
            "      Epoch    GPU_mem   box_loss   seg_loss   cls_loss   dfl_loss  Instances       Size\n",
            "      9/150      34.9G      1.232      1.688     0.6536     0.9897        383       1024: 100%|██████████| 893/893 [10:00<00:00,  1.49it/s]\n",
            "                 Class     Images  Instances      Box(P          R      mAP50  mAP50-95)     Mask(P          R      mAP50  mAP50-95): 100%|██████████| 63/63 [00:35<00:00,  1.79it/s]\n",
            "                   all       1000      65963       0.89      0.827      0.883      0.578      0.885      0.813       0.87      0.496\n",
            "\n",
            "      Epoch    GPU_mem   box_loss   seg_loss   cls_loss   dfl_loss  Instances       Size\n",
            "     10/150      32.5G       1.22      1.689     0.6515     0.9878        380       1024: 100%|██████████| 893/893 [09:53<00:00,  1.50it/s]\n",
            "                 Class     Images  Instances      Box(P          R      mAP50  mAP50-95)     Mask(P          R      mAP50  mAP50-95): 100%|██████████| 63/63 [00:35<00:00,  1.77it/s]\n",
            "                   all       1000      65963      0.892      0.831      0.885      0.586      0.888      0.818      0.873      0.506\n",
            "\n",
            "      Epoch    GPU_mem   box_loss   seg_loss   cls_loss   dfl_loss  Instances       Size\n",
            "     11/150      38.3G      1.208      1.666     0.6374     0.9849        224       1024: 100%|██████████| 893/893 [09:55<00:00,  1.50it/s]\n",
            "                 Class     Images  Instances      Box(P          R      mAP50  mAP50-95)     Mask(P          R      mAP50  mAP50-95): 100%|██████████| 63/63 [00:35<00:00,  1.79it/s]\n",
            "                   all       1000      65963      0.887      0.827       0.88      0.579      0.884      0.816      0.871      0.506\n",
            "\n",
            "      Epoch    GPU_mem   box_loss   seg_loss   cls_loss   dfl_loss  Instances       Size\n",
            "     12/150      39.8G      1.201      1.655     0.6294     0.9787        371       1024: 100%|██████████| 893/893 [09:57<00:00,  1.49it/s]\n",
            "                 Class     Images  Instances      Box(P          R      mAP50  mAP50-95)     Mask(P          R      mAP50  mAP50-95): 100%|██████████| 63/63 [00:33<00:00,  1.90it/s]\n",
            "                   all       1000      65963      0.897      0.826      0.886       0.59       0.89      0.815      0.873      0.507\n",
            "\n",
            "      Epoch    GPU_mem   box_loss   seg_loss   cls_loss   dfl_loss  Instances       Size\n",
            "     13/150      33.8G      1.195      1.651      0.626     0.9794        203       1024: 100%|██████████| 893/893 [09:50<00:00,  1.51it/s]\n",
            "                 Class     Images  Instances      Box(P          R      mAP50  mAP50-95)     Mask(P          R      mAP50  mAP50-95): 100%|██████████| 63/63 [00:35<00:00,  1.75it/s]\n",
            "                   all       1000      65963      0.895       0.83      0.887      0.585      0.889      0.819      0.876      0.509\n",
            "\n",
            "      Epoch    GPU_mem   box_loss   seg_loss   cls_loss   dfl_loss  Instances       Size\n",
            "     14/150      35.5G      1.187      1.639     0.6189     0.9748        113       1024: 100%|██████████| 893/893 [09:58<00:00,  1.49it/s]\n",
            "                 Class     Images  Instances      Box(P          R      mAP50  mAP50-95)     Mask(P          R      mAP50  mAP50-95): 100%|██████████| 63/63 [00:34<00:00,  1.80it/s]\n",
            "                   all       1000      65963      0.892      0.834      0.889      0.596      0.889      0.824      0.879      0.512\n",
            "\n",
            "      Epoch    GPU_mem   box_loss   seg_loss   cls_loss   dfl_loss  Instances       Size\n",
            "     15/150      34.8G      1.184      1.644     0.6223      0.977        425       1024: 100%|██████████| 893/893 [09:54<00:00,  1.50it/s]\n",
            "                 Class     Images  Instances      Box(P          R      mAP50  mAP50-95)     Mask(P          R      mAP50  mAP50-95): 100%|██████████| 63/63 [00:34<00:00,  1.84it/s]\n",
            "                   all       1000      65963      0.892      0.831      0.889      0.588      0.889      0.819      0.878      0.512\n",
            "\n",
            "      Epoch    GPU_mem   box_loss   seg_loss   cls_loss   dfl_loss  Instances       Size\n",
            "     16/150      30.6G      1.185       1.63     0.6176     0.9744        258       1024: 100%|██████████| 893/893 [09:56<00:00,  1.50it/s]\n",
            "                 Class     Images  Instances      Box(P          R      mAP50  mAP50-95)     Mask(P          R      mAP50  mAP50-95): 100%|██████████| 63/63 [00:34<00:00,  1.82it/s]\n",
            "                   all       1000      65963      0.895      0.834      0.889       0.59       0.89      0.823      0.878      0.511\n",
            "\n",
            "      Epoch    GPU_mem   box_loss   seg_loss   cls_loss   dfl_loss  Instances       Size\n",
            "     17/150      34.2G      1.167      1.615     0.6067     0.9688        278       1024: 100%|██████████| 893/893 [09:53<00:00,  1.50it/s]\n",
            "                 Class     Images  Instances      Box(P          R      mAP50  mAP50-95)     Mask(P          R      mAP50  mAP50-95): 100%|██████████| 63/63 [00:34<00:00,  1.80it/s]\n",
            "                   all       1000      65963      0.901       0.83       0.89      0.592      0.897      0.819       0.88      0.513\n",
            "\n",
            "      Epoch    GPU_mem   box_loss   seg_loss   cls_loss   dfl_loss  Instances       Size\n",
            "     18/150      36.4G      1.161      1.599     0.6017     0.9678        248       1024: 100%|██████████| 893/893 [09:53<00:00,  1.51it/s]\n",
            "                 Class     Images  Instances      Box(P          R      mAP50  mAP50-95)     Mask(P          R      mAP50  mAP50-95): 100%|██████████| 63/63 [00:36<00:00,  1.73it/s]\n",
            "                   all       1000      65963      0.894      0.838      0.891      0.593      0.888      0.825      0.878      0.508\n",
            "\n",
            "      Epoch    GPU_mem   box_loss   seg_loss   cls_loss   dfl_loss  Instances       Size\n",
            "     19/150      32.8G      1.164      1.613     0.6002     0.9672        288       1024: 100%|██████████| 893/893 [09:58<00:00,  1.49it/s]\n",
            "                 Class     Images  Instances      Box(P          R      mAP50  mAP50-95)     Mask(P          R      mAP50  mAP50-95): 100%|██████████| 63/63 [01:28<00:00,  1.40s/it]\n",
            "                   all       1000      65963      0.899      0.841      0.893        0.6      0.896      0.831      0.883      0.517\n",
            "\n",
            "      Epoch    GPU_mem   box_loss   seg_loss   cls_loss   dfl_loss  Instances       Size\n",
            "     20/150      31.9G      1.157      1.603     0.6004     0.9654        279       1024: 100%|██████████| 893/893 [09:51<00:00,  1.51it/s]\n",
            "                 Class     Images  Instances      Box(P          R      mAP50  mAP50-95)     Mask(P          R      mAP50  mAP50-95): 100%|██████████| 63/63 [00:33<00:00,  1.89it/s]\n",
            "                   all       1000      65963      0.897      0.839      0.891      0.595      0.893      0.828       0.88      0.514\n",
            "\n",
            "      Epoch    GPU_mem   box_loss   seg_loss   cls_loss   dfl_loss  Instances       Size\n",
            "     21/150        39G       1.16      1.599     0.6018     0.9654        428       1024: 100%|██████████| 893/893 [10:00<00:00,  1.49it/s]\n",
            "                 Class     Images  Instances      Box(P          R      mAP50  mAP50-95)     Mask(P          R      mAP50  mAP50-95): 100%|██████████| 63/63 [00:34<00:00,  1.81it/s]\n",
            "                   all       1000      65963      0.901      0.838      0.894      0.597      0.896      0.831      0.885      0.521\n",
            "\n",
            "      Epoch    GPU_mem   box_loss   seg_loss   cls_loss   dfl_loss  Instances       Size\n",
            "     22/150      33.5G      1.152      1.591     0.5951     0.9617        211       1024: 100%|██████████| 893/893 [10:02<00:00,  1.48it/s]\n",
            "                 Class     Images  Instances      Box(P          R      mAP50  mAP50-95)     Mask(P          R      mAP50  mAP50-95): 100%|██████████| 63/63 [00:34<00:00,  1.82it/s]\n",
            "                   all       1000      65963      0.897      0.841      0.892      0.595      0.894      0.831      0.883      0.515\n",
            "\n",
            "      Epoch    GPU_mem   box_loss   seg_loss   cls_loss   dfl_loss  Instances       Size\n",
            "     23/150      36.8G      1.154       1.59     0.5974      0.965        261       1024: 100%|██████████| 893/893 [09:54<00:00,  1.50it/s]\n",
            "                 Class     Images  Instances      Box(P          R      mAP50  mAP50-95)     Mask(P          R      mAP50  mAP50-95): 100%|██████████| 63/63 [00:38<00:00,  1.62it/s]\n",
            "                   all       1000      65963      0.899      0.844      0.895      0.601      0.894      0.834      0.885      0.519\n",
            "\n",
            "      Epoch    GPU_mem   box_loss   seg_loss   cls_loss   dfl_loss  Instances       Size\n",
            "     24/150      35.8G       1.14      1.582     0.5857     0.9609        369       1024: 100%|██████████| 893/893 [09:55<00:00,  1.50it/s]\n",
            "                 Class     Images  Instances      Box(P          R      mAP50  mAP50-95)     Mask(P          R      mAP50  mAP50-95): 100%|██████████| 63/63 [00:40<00:00,  1.57it/s]\n",
            "                   all       1000      65963      0.899      0.845      0.895      0.599      0.893      0.832      0.882      0.513\n",
            "\n",
            "      Epoch    GPU_mem   box_loss   seg_loss   cls_loss   dfl_loss  Instances       Size\n",
            "     25/150      34.1G      1.142      1.579     0.5858      0.958        476       1024: 100%|██████████| 893/893 [09:57<00:00,  1.49it/s]\n",
            "                 Class     Images  Instances      Box(P          R      mAP50  mAP50-95)     Mask(P          R      mAP50  mAP50-95): 100%|██████████| 63/63 [00:40<00:00,  1.57it/s]\n",
            "                   all       1000      65963      0.898      0.845      0.894      0.596      0.891      0.828       0.88       0.51\n",
            "\n",
            "      Epoch    GPU_mem   box_loss   seg_loss   cls_loss   dfl_loss  Instances       Size\n",
            "     26/150      36.2G      1.135       1.57     0.5825     0.9586        258       1024: 100%|██████████| 893/893 [09:49<00:00,  1.51it/s]\n",
            "                 Class     Images  Instances      Box(P          R      mAP50  mAP50-95)     Mask(P          R      mAP50  mAP50-95): 100%|██████████| 63/63 [00:41<00:00,  1.53it/s]\n",
            "                   all       1000      65963      0.899      0.843      0.896      0.601      0.893      0.831      0.885      0.522\n",
            "\n",
            "      Epoch    GPU_mem   box_loss   seg_loss   cls_loss   dfl_loss  Instances       Size\n",
            "     27/150        31G      1.132      1.561     0.5804     0.9564        306       1024: 100%|██████████| 893/893 [09:57<00:00,  1.49it/s]\n",
            "                 Class     Images  Instances      Box(P          R      mAP50  mAP50-95)     Mask(P          R      mAP50  mAP50-95): 100%|██████████| 63/63 [00:36<00:00,  1.73it/s]\n",
            "                   all       1000      65963      0.901      0.848      0.898      0.602      0.895      0.836      0.887      0.519\n",
            "\n",
            "      Epoch    GPU_mem   box_loss   seg_loss   cls_loss   dfl_loss  Instances       Size\n",
            "     28/150      33.6G       1.13      1.558     0.5778     0.9601        454       1024: 100%|██████████| 893/893 [09:56<00:00,  1.50it/s]\n",
            "                 Class     Images  Instances      Box(P          R      mAP50  mAP50-95)     Mask(P          R      mAP50  mAP50-95): 100%|██████████| 63/63 [00:38<00:00,  1.63it/s]\n",
            "                   all       1000      65963      0.901      0.846      0.898        0.6      0.895      0.835      0.887      0.519\n",
            "\n",
            "      Epoch    GPU_mem   box_loss   seg_loss   cls_loss   dfl_loss  Instances       Size\n",
            "     29/150        38G      1.125      1.553      0.576     0.9556        357       1024: 100%|██████████| 893/893 [09:52<00:00,  1.51it/s]\n",
            "                 Class     Images  Instances      Box(P          R      mAP50  mAP50-95)     Mask(P          R      mAP50  mAP50-95): 100%|██████████| 63/63 [00:33<00:00,  1.87it/s]\n",
            "                   all       1000      65963      0.901      0.846      0.897      0.595      0.898      0.836      0.888      0.519\n",
            "\n",
            "      Epoch    GPU_mem   box_loss   seg_loss   cls_loss   dfl_loss  Instances       Size\n",
            "     30/150      35.2G      1.123      1.554     0.5726     0.9541        376       1024: 100%|██████████| 893/893 [09:54<00:00,  1.50it/s]\n",
            "                 Class     Images  Instances      Box(P          R      mAP50  mAP50-95)     Mask(P          R      mAP50  mAP50-95): 100%|██████████| 63/63 [00:40<00:00,  1.56it/s]\n",
            "                   all       1000      65963      0.904      0.846      0.898      0.601      0.899      0.835      0.888      0.521\n",
            "\n",
            "      Epoch    GPU_mem   box_loss   seg_loss   cls_loss   dfl_loss  Instances       Size\n",
            "     31/150      31.8G      1.124      1.547      0.574     0.9537        279       1024: 100%|██████████| 893/893 [09:56<00:00,  1.50it/s]\n",
            "                 Class     Images  Instances      Box(P          R      mAP50  mAP50-95)     Mask(P          R      mAP50  mAP50-95):   2%|▏         | 1/63 [00:03<03:21,  3.25s/it]WARNING ⚠️ NMS time limit 1.300s exceeded\n",
            "                 Class     Images  Instances      Box(P          R      mAP50  mAP50-95)     Mask(P          R      mAP50  mAP50-95):   5%|▍         | 3/63 [01:38<41:23, 41.40s/it]WARNING ⚠️ NMS time limit 1.300s exceeded\n",
            "                 Class     Images  Instances      Box(P          R      mAP50  mAP50-95)     Mask(P          R      mAP50  mAP50-95): 100%|██████████| 63/63 [05:52<00:00,  5.59s/it]\n",
            "                   all       1000      65963      0.898      0.838      0.888      0.592      0.894      0.826      0.878      0.514\n",
            "Stopping training early as no improvement observed in last 5 epochs. Best results observed at epoch 26, best model saved as best.pt.\n",
            "To update EarlyStopping(patience=5) pass a new patience value, i.e. `patience=300` or use `patience=0` to disable EarlyStopping.\n",
            "\n",
            "31 epochs completed in 5.588 hours.\n",
            "Optimizer stripped from Aerial_Segmentation/train/weights/last.pt, 144.0MB\n",
            "Optimizer stripped from Aerial_Segmentation/train/weights/best.pt, 144.0MB\n",
            "\n",
            "Validating Aerial_Segmentation/train/weights/best.pt...\n",
            "Ultralytics YOLOv8.0.143 🚀 Python-3.10.6 torch-2.0.1+cu118 CUDA:0 (NVIDIA A100-SXM4-40GB, 40514MiB)\n",
            "YOLOv8x-seg summary (fused): 295 layers, 71721619 parameters, 0 gradients\n",
            "                 Class     Images  Instances      Box(P          R      mAP50  mAP50-95)     Mask(P          R      mAP50  mAP50-95): 100%|██████████| 63/63 [01:39<00:00,  1.58s/it]\n",
            "                   all       1000      65963      0.899      0.843      0.896      0.601      0.893      0.831      0.885      0.522\n",
            "Speed: 0.6ms preprocess, 10.6ms inference, 0.0ms loss, 1.6ms postprocess per image\n",
            "Results saved to \u001b[1mAerial_Segmentation/train\u001b[0m\n"
          ]
        }
      ],
      "source": [
        "from ultralytics import YOLO\n",
        "model = YOLO(\"yolov8x-seg\") # segmentation 모델 : \"yolov8x-seg\", 모델이 너무 크면 yolov8n,s,m,l 사용가능\n",
        "results = model.train(\n",
        "    data=\"/content/drive/MyDrive/Hoin.yaml\",\n",
        "    imgsz= 1024,\n",
        "    epochs= 150,\n",
        "    batch= 8,\n",
        "    patience=5,\n",
        "    workers=16,\n",
        "    exist_ok=True,\n",
        "    project=\"Aerial_Segmentation\",\n",
        "    name=\"train\",\n",
        "    seed=6666666,\n",
        "    pretrained=False,\n",
        "    resume=False,\n",
        "    optimizer=\"NAdam\",\n",
        "    lr0=1e-3,\n",
        "    cos_lr=True,\n",
        "    val=True,\n",
        "    mask_ratio=4,\n",
        "    overlap_mask=True\n",
        "    )"
      ]
    },
    {
      "cell_type": "code",
      "execution_count": null,
      "metadata": {
        "id": "3bpG3fYnL7lU"
      },
      "outputs": [],
      "source": []
    },
    {
      "cell_type": "code",
      "execution_count": null,
      "metadata": {
        "colab": {
          "base_uri": "https://localhost:8080/"
        },
        "id": "aDXLuVwEX4Ye",
        "outputId": "8b849327-d51f-4814-a1a8-93a018138471"
      },
      "outputs": [
        {
          "name": "stderr",
          "output_type": "stream",
          "text": [
            "\r100%|█████████▉| 60636/60640 [2:26:37<00:01,  3.24it/s]Results saved to \u001b[1mruns/segment/predict\u001b[0m\n",
            "43964 labels saved to runs/segment/predict/labels\n",
            "100%|█████████▉| 60637/60640 [2:26:37<00:00,  3.81it/s]Results saved to \u001b[1mruns/segment/predict\u001b[0m\n",
            "43964 labels saved to runs/segment/predict/labels\n",
            "100%|█████████▉| 60638/60640 [2:26:37<00:00,  4.52it/s]Results saved to \u001b[1mruns/segment/predict\u001b[0m\n",
            "43965 labels saved to runs/segment/predict/labels\n",
            "100%|█████████▉| 60639/60640 [2:26:38<00:00,  3.50it/s]Results saved to \u001b[1mruns/segment/predict\u001b[0m\n",
            "43966 labels saved to runs/segment/predict/labels\n",
            "100%|██████████| 60640/60640 [2:26:38<00:00,  6.89it/s]\n"
          ]
        }
      ],
      "source": []
    },
    {
      "cell_type": "code",
      "execution_count": null,
      "metadata": {
        "colab": {
          "base_uri": "https://localhost:8080/",
          "height": 292
        },
        "id": "sr991dCZKUZN",
        "outputId": "603d5ce1-4790-4e34-bb19-f2a3af2c4a94"
      },
      "outputs": [
        {
          "name": "stdout",
          "output_type": "stream",
          "text": [
            "           img_id mask_rle\n",
            "0      TEST_00000         \n",
            "1      TEST_00001         \n",
            "2      TEST_00002         \n",
            "3      TEST_00003         \n",
            "4      TEST_00004         \n",
            "...           ...      ...\n",
            "60635  TEST_60635         \n",
            "60636  TEST_60636         \n",
            "60637  TEST_60637         \n",
            "60638  TEST_60638         \n",
            "60639  TEST_60639         \n",
            "\n",
            "[60640 rows x 2 columns]\n"
          ]
        },
        {
          "data": {
            "application/vnd.google.colaboratory.intrinsic+json": {
              "type": "string"
            },
            "text/plain": [
              "'df.to_csv(\"/content/predict_result.csv\")\\ndf.to_csv(\"/content/drive/MyDrive/predict_result01.csv\")'"
            ]
          },
          "execution_count": 106,
          "metadata": {},
          "output_type": "execute_result"
        }
      ],
      "source": []
    },
    {
      "cell_type": "code",
      "execution_count": null,
      "metadata": {
        "colab": {
          "base_uri": "https://localhost:8080/",
          "height": 35
        },
        "id": "Z4Y6VgYDE_55",
        "outputId": "00d32950-eb7b-4287-932d-8c278d2e6298"
      },
      "outputs": [
        {
          "data": {
            "application/vnd.google.colaboratory.intrinsic+json": {
              "type": "string"
            },
            "text/plain": [
              "'!zip -r /content/drive/MyDrive/result.zip /content/runs/segment/predict/'"
            ]
          },
          "execution_count": 11,
          "metadata": {},
          "output_type": "execute_result"
        }
      ],
      "source": []
    },
    {
      "cell_type": "code",
      "execution_count": null,
      "metadata": {
        "colab": {
          "base_uri": "https://localhost:8080/",
          "height": 164
        },
        "id": "tg5EVgCiV_Tl",
        "outputId": "5ec03640-a42e-4a6f-fb89-5faf388784d1"
      },
      "outputs": [
        {
          "data": {
            "application/vnd.google.colaboratory.intrinsic+json": {
              "type": "string"
            },
            "text/plain": [
              "'13652 3 13876 3 14100 4 14325 3 14549 3 14773 4 14997 4 15221 5 15321 25 15444 6 15545 49 15668 6 15769 49 15892 7 15993 49 16116 7 16217 49 16340 7 16441 49 16564 8 16665 50 16787 9 16889 2 16892 47 17010 11 17113 2 17116 47 17233 12 17337 2 17340 47 17457 12 17561 2 17565 46 17681 13 17785 2 17789 46 17905 13 18009 2 18013 45 18129 13 18233 2 18237 45 18353 14 18457 2 18461 45 18577 14 18681 2 18685 44 18801 15 18905 2 18909 44 19025 15 19129 2 19132 45 19249 15 19353 2 19356 45 19473 3 19479 10 19577 2 19580 45 19697 3 19705 1 19709 4 19801 2 19804 45 19921 3 19929 1 20025 2 20028 44 20145 3 20153 1 20249 2 20252 42 20369 3 20377 1 20473 2 20476 40 20593 3 20601 1 20697 43 20817 3 20825 1 20921 43 21041 3 21049 1 21145 43 21265 3 21273 1 21369 42 21489 3 21497 1 21593 42 21713 3 21721 2 21817 42 21937 3 21945 2 22041 42 22161 3 22169 2 22265 42 22385 3 22393 2 22489 41 22609 3 22617 2 22713 41 22833 3 22841 2 22937 2 22945 33 23057 3 23065 2 23161 2 23181 13 23281 2 23289 2 23385 2 23505 2 23513 2 23609 2 23729 2 23737 2 23833 2 23953 2 23961 2 24057 2 24177 2 24185 2 24281 2 24401 2 24409 2 24505 2 24625 2 24633 2 24729 2 24849 2 24857 2 24953 2 25073 2 25081 2 25177 2 25297 2 25305 2 25401 2 25521 2 25529 2 25625 2 25745 2 25753 2 25849 2 25969 2 25977 3 26073 2 26193 2 26201 3 26297 2 26417 2 26425 3 26521 2 26641 2 26649 3 26745 2 26865 2 26873 4 26969 2 26981 19 27089 2 27097 4 27193 2 27205 37 27313 2 27321 4 27417 2 27429 37 27537 2 27545 4 27641 2 27653 37 27761 2 27769 4 27865 2 27877 37 27985 2 27993 5 28089 2 28101 37 28209 2 28217 5 28313 2 28325 38 28433 2 28441 5 28537 2 28549 38 28657 2 28665 5 28761 2 28773 38 28881 2 28889 6 28985 2 28997 38 29105 2 29113 6 29209 2 29221 38 29329 2 29337 6 29433 2 29445 38 29553 2 29561 6 29657 2 29669 39 29777 2 29785 6 29881 2 29893 39 30001 2 30009 7 30105 2 30117 2 30120 36 30225 2 30233 7 30329 2 30341 2 30344 36 30449 2 30457 7 30553 1 30565 2 30568 37 30673 2 30681 7 30777 1 30789 2 30793 36 30897 2 30906 7 31001 1 31013 2 31017 36 31121 1 31130 7 31225 1 31237 2 31241 37 31345 1 31354 7 31449 1 31461 2 31465 37 31569 1 31578 6 31673 1 31685 2 31690 36 31793 1 31802 6 31897 1 31909 2 31914 36 32017 1 32026 7 32121 1 32133 2 32138 36 32241 1 32250 7 32345 1 32357 2 32362 36 32465 1 32478 3 32569 1 32581 2 32586 37 32689 1 32793 1 32805 2 32811 36 32913 1 33017 1 33029 2 33035 36 33137 1 33241 1 33253 2 33259 36 33361 1 33465 1 33477 2 33485 34 33585 1 33689 1 33701 2 33712 31 33809 1 33913 1 33925 2 33938 29 34033 1 34137 1 34149 2 34164 13 34257 1 34361 1 34373 2 34481 1 34585 1 34597 2 34705 1 34809 1 34821 2 34929 1 35033 1 35045 2 35257 1 35269 2 35481 1 35493 1 35705 1 35717 1 35929 1 35941 1 36153 1 36165 1 36377 1 36389 1 36601 1 36613 1 36825 1 36837 1 37049 1 37061 1 37273 1 37285 1 37497 1 37509 1 37721 1 37733 1 37945 1 37957 1 38169 1 38181 1 38393 1 38405 1 38617 1 38629 1 38633 19 38841 1 38853 1 38857 37 39065 1 39077 1 39081 37 39289 1 39301 1 39305 37 39513 1 39525 1 39529 38 39737 1 39749 1 39753 38 39961 1 39973 1 39977 38 40185 1 40197 1 40201 38 40409 1 40421 1 40425 38 40633 1 40645 1 40649 39 40857 1 40869 1 40873 39 41081 1 41093 1 41097 39 41305 1 41317 1 41321 39 41529 1 41541 1 41545 39 41753 1 41769 40 41977 1 41993 40 42201 1 42220 37 42425 1 42444 37 42649 1 42668 38 42873 1 42893 38 43097 1 43117 38 43321 1 43341 38 43545 1 43566 38 43769 1 43790 38 43993 1 44014 38 44217 1 44239 37 44441 1 44463 36 44665 1 44688 35 44913 34 45138 33 45363 33 45588 30 45813 15'"
            ]
          },
          "execution_count": 57,
          "metadata": {},
          "output_type": "execute_result"
        }
      ],
      "source": []
    },
    {
      "cell_type": "markdown",
      "metadata": {
        "id": "MSibMnqPeV0h"
      },
      "source": [
        "df"
      ]
    },
    {
      "cell_type": "code",
      "execution_count": null,
      "metadata": {
        "colab": {
          "base_uri": "https://localhost:8080/",
          "height": 206
        },
        "id": "jIX8ofiaeWje",
        "outputId": "93de46ec-353f-4f2b-f71d-85e16bf40122"
      },
      "outputs": [
        {
          "data": {
            "text/html": [
              "\n",
              "\n",
              "  <div id=\"df-c66c9429-06c9-424c-96ac-4af4c6863e19\">\n",
              "    <div class=\"colab-df-container\">\n",
              "      <div>\n",
              "<style scoped>\n",
              "    .dataframe tbody tr th:only-of-type {\n",
              "        vertical-align: middle;\n",
              "    }\n",
              "\n",
              "    .dataframe tbody tr th {\n",
              "        vertical-align: top;\n",
              "    }\n",
              "\n",
              "    .dataframe thead th {\n",
              "        text-align: right;\n",
              "    }\n",
              "</style>\n",
              "<table border=\"1\" class=\"dataframe\">\n",
              "  <thead>\n",
              "    <tr style=\"text-align: right;\">\n",
              "      <th></th>\n",
              "      <th>img_id</th>\n",
              "      <th>mask_rle</th>\n",
              "    </tr>\n",
              "  </thead>\n",
              "  <tbody>\n",
              "    <tr>\n",
              "      <th>0</th>\n",
              "      <td>TEST_00000</td>\n",
              "      <td>281542 10 282566 10 283590 11 284614 11 285638...</td>\n",
              "    </tr>\n",
              "    <tr>\n",
              "      <th>1</th>\n",
              "      <td>TEST_00001</td>\n",
              "      <td></td>\n",
              "    </tr>\n",
              "    <tr>\n",
              "      <th>2</th>\n",
              "      <td>TEST_00002</td>\n",
              "      <td></td>\n",
              "    </tr>\n",
              "    <tr>\n",
              "      <th>3</th>\n",
              "      <td>TEST_00003</td>\n",
              "      <td></td>\n",
              "    </tr>\n",
              "    <tr>\n",
              "      <th>4</th>\n",
              "      <td>TEST_00004</td>\n",
              "      <td></td>\n",
              "    </tr>\n",
              "  </tbody>\n",
              "</table>\n",
              "</div>\n",
              "      <button class=\"colab-df-convert\" onclick=\"convertToInteractive('df-c66c9429-06c9-424c-96ac-4af4c6863e19')\"\n",
              "              title=\"Convert this dataframe to an interactive table.\"\n",
              "              style=\"display:none;\">\n",
              "\n",
              "  <svg xmlns=\"http://www.w3.org/2000/svg\" height=\"24px\"viewBox=\"0 0 24 24\"\n",
              "       width=\"24px\">\n",
              "    <path d=\"M0 0h24v24H0V0z\" fill=\"none\"/>\n",
              "    <path d=\"M18.56 5.44l.94 2.06.94-2.06 2.06-.94-2.06-.94-.94-2.06-.94 2.06-2.06.94zm-11 1L8.5 8.5l.94-2.06 2.06-.94-2.06-.94L8.5 2.5l-.94 2.06-2.06.94zm10 10l.94 2.06.94-2.06 2.06-.94-2.06-.94-.94-2.06-.94 2.06-2.06.94z\"/><path d=\"M17.41 7.96l-1.37-1.37c-.4-.4-.92-.59-1.43-.59-.52 0-1.04.2-1.43.59L10.3 9.45l-7.72 7.72c-.78.78-.78 2.05 0 2.83L4 21.41c.39.39.9.59 1.41.59.51 0 1.02-.2 1.41-.59l7.78-7.78 2.81-2.81c.8-.78.8-2.07 0-2.86zM5.41 20L4 18.59l7.72-7.72 1.47 1.35L5.41 20z\"/>\n",
              "  </svg>\n",
              "      </button>\n",
              "\n",
              "\n",
              "\n",
              "    <div id=\"df-8e3bbba1-fd89-4773-8ecc-6a9597f9327a\">\n",
              "      <button class=\"colab-df-quickchart\" onclick=\"quickchart('df-8e3bbba1-fd89-4773-8ecc-6a9597f9327a')\"\n",
              "              title=\"Suggest charts.\"\n",
              "              style=\"display:none;\">\n",
              "\n",
              "<svg xmlns=\"http://www.w3.org/2000/svg\" height=\"24px\"viewBox=\"0 0 24 24\"\n",
              "     width=\"24px\">\n",
              "    <g>\n",
              "        <path d=\"M19 3H5c-1.1 0-2 .9-2 2v14c0 1.1.9 2 2 2h14c1.1 0 2-.9 2-2V5c0-1.1-.9-2-2-2zM9 17H7v-7h2v7zm4 0h-2V7h2v10zm4 0h-2v-4h2v4z\"/>\n",
              "    </g>\n",
              "</svg>\n",
              "      </button>\n",
              "    </div>\n",
              "\n",
              "<style>\n",
              "  .colab-df-quickchart {\n",
              "    background-color: #E8F0FE;\n",
              "    border: none;\n",
              "    border-radius: 50%;\n",
              "    cursor: pointer;\n",
              "    display: none;\n",
              "    fill: #1967D2;\n",
              "    height: 32px;\n",
              "    padding: 0 0 0 0;\n",
              "    width: 32px;\n",
              "  }\n",
              "\n",
              "  .colab-df-quickchart:hover {\n",
              "    background-color: #E2EBFA;\n",
              "    box-shadow: 0px 1px 2px rgba(60, 64, 67, 0.3), 0px 1px 3px 1px rgba(60, 64, 67, 0.15);\n",
              "    fill: #174EA6;\n",
              "  }\n",
              "\n",
              "  [theme=dark] .colab-df-quickchart {\n",
              "    background-color: #3B4455;\n",
              "    fill: #D2E3FC;\n",
              "  }\n",
              "\n",
              "  [theme=dark] .colab-df-quickchart:hover {\n",
              "    background-color: #434B5C;\n",
              "    box-shadow: 0px 1px 3px 1px rgba(0, 0, 0, 0.15);\n",
              "    filter: drop-shadow(0px 1px 2px rgba(0, 0, 0, 0.3));\n",
              "    fill: #FFFFFF;\n",
              "  }\n",
              "</style>\n",
              "\n",
              "    <script>\n",
              "      async function quickchart(key) {\n",
              "        const containerElement = document.querySelector('#' + key);\n",
              "        const charts = await google.colab.kernel.invokeFunction(\n",
              "            'suggestCharts', [key], {});\n",
              "      }\n",
              "    </script>\n",
              "\n",
              "      <script>\n",
              "\n",
              "function displayQuickchartButton(domScope) {\n",
              "  let quickchartButtonEl =\n",
              "    domScope.querySelector('#df-8e3bbba1-fd89-4773-8ecc-6a9597f9327a button.colab-df-quickchart');\n",
              "  quickchartButtonEl.style.display =\n",
              "    google.colab.kernel.accessAllowed ? 'block' : 'none';\n",
              "}\n",
              "\n",
              "        displayQuickchartButton(document);\n",
              "      </script>\n",
              "      <style>\n",
              "    .colab-df-container {\n",
              "      display:flex;\n",
              "      flex-wrap:wrap;\n",
              "      gap: 12px;\n",
              "    }\n",
              "\n",
              "    .colab-df-convert {\n",
              "      background-color: #E8F0FE;\n",
              "      border: none;\n",
              "      border-radius: 50%;\n",
              "      cursor: pointer;\n",
              "      display: none;\n",
              "      fill: #1967D2;\n",
              "      height: 32px;\n",
              "      padding: 0 0 0 0;\n",
              "      width: 32px;\n",
              "    }\n",
              "\n",
              "    .colab-df-convert:hover {\n",
              "      background-color: #E2EBFA;\n",
              "      box-shadow: 0px 1px 2px rgba(60, 64, 67, 0.3), 0px 1px 3px 1px rgba(60, 64, 67, 0.15);\n",
              "      fill: #174EA6;\n",
              "    }\n",
              "\n",
              "    [theme=dark] .colab-df-convert {\n",
              "      background-color: #3B4455;\n",
              "      fill: #D2E3FC;\n",
              "    }\n",
              "\n",
              "    [theme=dark] .colab-df-convert:hover {\n",
              "      background-color: #434B5C;\n",
              "      box-shadow: 0px 1px 3px 1px rgba(0, 0, 0, 0.15);\n",
              "      filter: drop-shadow(0px 1px 2px rgba(0, 0, 0, 0.3));\n",
              "      fill: #FFFFFF;\n",
              "    }\n",
              "  </style>\n",
              "\n",
              "      <script>\n",
              "        const buttonEl =\n",
              "          document.querySelector('#df-c66c9429-06c9-424c-96ac-4af4c6863e19 button.colab-df-convert');\n",
              "        buttonEl.style.display =\n",
              "          google.colab.kernel.accessAllowed ? 'block' : 'none';\n",
              "\n",
              "        async function convertToInteractive(key) {\n",
              "          const element = document.querySelector('#df-c66c9429-06c9-424c-96ac-4af4c6863e19');\n",
              "          const dataTable =\n",
              "            await google.colab.kernel.invokeFunction('convertToInteractive',\n",
              "                                                     [key], {});\n",
              "          if (!dataTable) return;\n",
              "\n",
              "          const docLinkHtml = 'Like what you see? Visit the ' +\n",
              "            '<a target=\"_blank\" href=https://colab.research.google.com/notebooks/data_table.ipynb>data table notebook</a>'\n",
              "            + ' to learn more about interactive tables.';\n",
              "          element.innerHTML = '';\n",
              "          dataTable['output_type'] = 'display_data';\n",
              "          await google.colab.output.renderOutput(dataTable, element);\n",
              "          const docLink = document.createElement('div');\n",
              "          docLink.innerHTML = docLinkHtml;\n",
              "          element.appendChild(docLink);\n",
              "        }\n",
              "      </script>\n",
              "    </div>\n",
              "  </div>\n"
            ],
            "text/plain": [
              "       img_id                                           mask_rle\n",
              "0  TEST_00000  281542 10 282566 10 283590 11 284614 11 285638...\n",
              "1  TEST_00001                                                   \n",
              "2  TEST_00002                                                   \n",
              "3  TEST_00003                                                   \n",
              "4  TEST_00004                                                   "
            ]
          },
          "execution_count": 99,
          "metadata": {},
          "output_type": "execute_result"
        }
      ],
      "source": []
    },
    {
      "cell_type": "code",
      "execution_count": null,
      "metadata": {
        "colab": {
          "base_uri": "https://localhost:8080/"
        },
        "id": "TVcjpP2-e6b-",
        "outputId": "ffa2b59f-0367-4f9d-e15d-8dffc8efcbb6"
      },
      "outputs": [
        {
          "name": "stdout",
          "output_type": "stream",
          "text": [
            "Requirement already satisfied: ultralytics in /usr/local/lib/python3.10/dist-packages (8.0.141)\n",
            "Requirement already satisfied: matplotlib>=3.2.2 in /usr/local/lib/python3.10/dist-packages (from ultralytics) (3.7.1)\n",
            "Requirement already satisfied: opencv-python>=4.6.0 in /usr/local/lib/python3.10/dist-packages (from ultralytics) (4.7.0.72)\n",
            "Requirement already satisfied: Pillow>=7.1.2 in /usr/local/lib/python3.10/dist-packages (from ultralytics) (8.4.0)\n",
            "Requirement already satisfied: PyYAML>=5.3.1 in /usr/local/lib/python3.10/dist-packages (from ultralytics) (6.0.1)\n",
            "Requirement already satisfied: requests>=2.23.0 in /usr/local/lib/python3.10/dist-packages (from ultralytics) (2.27.1)\n",
            "Requirement already satisfied: scipy>=1.4.1 in /usr/local/lib/python3.10/dist-packages (from ultralytics) (1.10.1)\n",
            "Requirement already satisfied: torch>=1.7.0 in /usr/local/lib/python3.10/dist-packages (from ultralytics) (2.0.1+cu118)\n",
            "Requirement already satisfied: torchvision>=0.8.1 in /usr/local/lib/python3.10/dist-packages (from ultralytics) (0.15.2+cu118)\n",
            "Requirement already satisfied: tqdm>=4.64.0 in /usr/local/lib/python3.10/dist-packages (from ultralytics) (4.65.0)\n",
            "Requirement already satisfied: pandas>=1.1.4 in /usr/local/lib/python3.10/dist-packages (from ultralytics) (1.5.3)\n",
            "Requirement already satisfied: seaborn>=0.11.0 in /usr/local/lib/python3.10/dist-packages (from ultralytics) (0.12.2)\n",
            "Requirement already satisfied: psutil in /usr/local/lib/python3.10/dist-packages (from ultralytics) (5.9.5)\n",
            "Requirement already satisfied: contourpy>=1.0.1 in /usr/local/lib/python3.10/dist-packages (from matplotlib>=3.2.2->ultralytics) (1.1.0)\n",
            "Requirement already satisfied: cycler>=0.10 in /usr/local/lib/python3.10/dist-packages (from matplotlib>=3.2.2->ultralytics) (0.11.0)\n",
            "Requirement already satisfied: fonttools>=4.22.0 in /usr/local/lib/python3.10/dist-packages (from matplotlib>=3.2.2->ultralytics) (4.41.0)\n",
            "Requirement already satisfied: kiwisolver>=1.0.1 in /usr/local/lib/python3.10/dist-packages (from matplotlib>=3.2.2->ultralytics) (1.4.4)\n",
            "Requirement already satisfied: numpy>=1.20 in /usr/local/lib/python3.10/dist-packages (from matplotlib>=3.2.2->ultralytics) (1.22.4)\n",
            "Requirement already satisfied: packaging>=20.0 in /usr/local/lib/python3.10/dist-packages (from matplotlib>=3.2.2->ultralytics) (23.1)\n",
            "Requirement already satisfied: pyparsing>=2.3.1 in /usr/local/lib/python3.10/dist-packages (from matplotlib>=3.2.2->ultralytics) (3.1.0)\n",
            "Requirement already satisfied: python-dateutil>=2.7 in /usr/local/lib/python3.10/dist-packages (from matplotlib>=3.2.2->ultralytics) (2.8.2)\n",
            "Requirement already satisfied: pytz>=2020.1 in /usr/local/lib/python3.10/dist-packages (from pandas>=1.1.4->ultralytics) (2022.7.1)\n",
            "Requirement already satisfied: urllib3<1.27,>=1.21.1 in /usr/local/lib/python3.10/dist-packages (from requests>=2.23.0->ultralytics) (1.26.16)\n",
            "Requirement already satisfied: certifi>=2017.4.17 in /usr/local/lib/python3.10/dist-packages (from requests>=2.23.0->ultralytics) (2023.5.7)\n",
            "Requirement already satisfied: charset-normalizer~=2.0.0 in /usr/local/lib/python3.10/dist-packages (from requests>=2.23.0->ultralytics) (2.0.12)\n",
            "Requirement already satisfied: idna<4,>=2.5 in /usr/local/lib/python3.10/dist-packages (from requests>=2.23.0->ultralytics) (3.4)\n",
            "Requirement already satisfied: filelock in /usr/local/lib/python3.10/dist-packages (from torch>=1.7.0->ultralytics) (3.12.2)\n",
            "Requirement already satisfied: typing-extensions in /usr/local/lib/python3.10/dist-packages (from torch>=1.7.0->ultralytics) (4.7.1)\n",
            "Requirement already satisfied: sympy in /usr/local/lib/python3.10/dist-packages (from torch>=1.7.0->ultralytics) (1.11.1)\n",
            "Requirement already satisfied: networkx in /usr/local/lib/python3.10/dist-packages (from torch>=1.7.0->ultralytics) (3.1)\n",
            "Requirement already satisfied: jinja2 in /usr/local/lib/python3.10/dist-packages (from torch>=1.7.0->ultralytics) (3.1.2)\n",
            "Requirement already satisfied: triton==2.0.0 in /usr/local/lib/python3.10/dist-packages (from torch>=1.7.0->ultralytics) (2.0.0)\n",
            "Requirement already satisfied: cmake in /usr/local/lib/python3.10/dist-packages (from triton==2.0.0->torch>=1.7.0->ultralytics) (3.25.2)\n",
            "Requirement already satisfied: lit in /usr/local/lib/python3.10/dist-packages (from triton==2.0.0->torch>=1.7.0->ultralytics) (16.0.6)\n",
            "Requirement already satisfied: six>=1.5 in /usr/local/lib/python3.10/dist-packages (from python-dateutil>=2.7->matplotlib>=3.2.2->ultralytics) (1.16.0)\n",
            "Requirement already satisfied: MarkupSafe>=2.0 in /usr/local/lib/python3.10/dist-packages (from jinja2->torch>=1.7.0->ultralytics) (2.1.3)\n",
            "Requirement already satisfied: mpmath>=0.19 in /usr/local/lib/python3.10/dist-packages (from sympy->torch>=1.7.0->ultralytics) (1.3.0)\n"
          ]
        }
      ],
      "source": [
        "!pip install ultralytics"
      ]
    },
    {
      "cell_type": "code",
      "execution_count": null,
      "metadata": {
        "id": "7Ui2tyFxfLc-"
      },
      "outputs": [],
      "source": [
        "from ultralytics import YOLO\n",
        "import torch\n",
        "model = YOLO(\"/content/drive/MyDrive/Hoin6.pt\")"
      ]
    },
    {
      "cell_type": "code",
      "execution_count": null,
      "metadata": {
        "colab": {
          "base_uri": "https://localhost:8080/"
        },
        "id": "YfX37HDbgd-W",
        "outputId": "c2f0906d-af2a-4602-b163-6df0e5d1dcb4"
      },
      "outputs": [
        {
          "name": "stderr",
          "output_type": "stream",
          "text": [
            "WARNING ⚠️ 'hide_labels' is deprecated and will be removed in 'ultralytics 8.2' in the future. Please use 'show_labels' instead.\n",
            "WARNING ⚠️ SegmentationModel has not supported augment inference yet! Now using single-scale inference instead.\n",
            "Results saved to \u001b[1mruns/segment/predict\u001b[0m\n"
          ]
        }
      ],
      "source": [
        "result = model.predict(\"/content/test_img/TEST_00000.png\", imgsz=(224,224), iou=0.7, conf=0.25, save_conf=True, save=True, save_txt=False, name=\"predict\", exist_ok=True, device=0,verbose=False, hide_labels=True, retina_masks=True, augment=True)"
      ]
    },
    {
      "cell_type": "code",
      "execution_count": null,
      "metadata": {
        "colab": {
          "base_uri": "https://localhost:8080/",
          "height": 90
        },
        "id": "_ARr3oppi9i_",
        "outputId": "baa69361-1ff5-4058-f66d-8af95054a859"
      },
      "outputs": [
        {
          "name": "stdout",
          "output_type": "stream",
          "text": [
            "torch.Size([2, 224, 224])\n"
          ]
        },
        {
          "data": {
            "application/vnd.google.colaboratory.intrinsic+json": {
              "type": "string"
            },
            "text/plain": [
              "'mask_rle = rle_encode(mask_cpu.numpy())\\ntemp = rle_decode(mask_rle,(448,448))\\ntemp2 = np.zeros((224,224))\\nfor i in range(448) :\\n  for j in range(448) :\\n    if temp[i][j] == 1:\\n      i_reduce = int(i / 2)\\n      j_reduce = int(j / 2)\\n      temp2[i_reduce][j_reduce] = 1\\ntemp3 = rle_encode(temp2)\\nprint(temp3)'"
            ]
          },
          "execution_count": 11,
          "metadata": {},
          "output_type": "execute_result"
        }
      ],
      "source": [
        "mask = result[0].masks\n",
        "mask_xy_8 = mask.data\n",
        "print(mask_xy_8.shape)\n",
        "mask_xy= mask_xy_8.any(dim=0).int()\n",
        "mask_cpu= mask_xy.cpu()\n",
        "mask_rle = rle_encode(mask_cpu.numpy())\n",
        "\"\"\"mask_rle = rle_encode(mask_cpu.numpy())\n",
        "temp = rle_decode(mask_rle,(448,448))\n",
        "temp2 = np.zeros((224,224))\n",
        "for i in range(448) :\n",
        "  for j in range(448) :\n",
        "    if temp[i][j] == 1:\n",
        "      i_reduce = int(i / 2)\n",
        "      j_reduce = int(j / 2)\n",
        "      temp2[i_reduce][j_reduce] = 1\n",
        "temp3 = rle_encode(temp2)\n",
        "print(temp3)\"\"\"\n",
        "\n",
        "\n",
        "# mask_224를 numpy 배열로 변환합니다.\n",
        "\n",
        "# 다운샘플링된 temp2를 이용하여 새로운 RLE 인코딩을 생성합니다.\n"
      ]
    },
    {
      "cell_type": "code",
      "execution_count": null,
      "metadata": {
        "colab": {
          "base_uri": "https://localhost:8080/",
          "height": 241
        },
        "id": "w5Y3Mgj18h_H",
        "outputId": "e4db43d0-1e57-4cd1-b9c7-d6f143ea542c"
      },
      "outputs": [
        {
          "data": {
            "image/png": "[encoded data removed]",
            "text/plain": [
              "<PIL.PngImagePlugin.PngImageFile image mode=RGB size=224x224 at 0x7BA144561180>"
            ]
          },
          "metadata": {},
          "output_type": "display_data"
        }
      ],
      "source": [
        "temp4 = rle_decode(mask_rle, (224,224))\n",
        "list = []\n",
        "for i in range(224) :\n",
        "    for j in range(224) :\n",
        "        if temp4[i][j]==1:\n",
        "            list.append((float(j),float(i)))\n",
        "\n",
        "### 정답 그리기 ###\n",
        "from PIL import Image, ImageDraw\n",
        "\n",
        "# Open the PNG image file\n",
        "image_path = \"/content/test_img/TEST_00000.png\"\n",
        "output_path = \"/content/converted/a.png\"\n",
        "image = Image.open(image_path)\n",
        "draw = ImageDraw.Draw(image)\n",
        "\n",
        "\n",
        "for item in list :\n",
        "    draw.point(item, fill=\"red\")\n",
        "\n",
        "image.save(output_path)\n",
        "# Display the modified image\n",
        "image.show()"
      ]
    },
    {
      "cell_type": "code",
      "execution_count": null,
      "metadata": {
        "id": "sx4jTLvolAnw"
      },
      "outputs": [],
      "source": [
        "import numpy as np\n",
        "import pandas as pd\n",
        "def rle_encode(mask):\n",
        "    pixels = mask.flatten()\n",
        "    pixels = np.concatenate([[0], pixels, [0]])\n",
        "    runs = np.where(pixels[1:] != pixels[:-1])[0] + 1\n",
        "    runs[1::2] -= runs[::2]\n",
        "    return ' '.join(str(x) for x in runs)\n",
        "\n",
        "def rle_decode(mask_rle, shape):\n",
        "    s = mask_rle.split()\n",
        "    starts, lengths = [np.asarray(x, dtype=int) for x in (s[0:][::2], s[1:][::2])]\n",
        "    starts -= 1\n",
        "    ends = starts + lengths\n",
        "    img = np.zeros(shape[0]*shape[1], dtype=np.uint8)\n",
        "    for lo, hi in zip(starts, ends):\n",
        "        img[lo:hi] = 1\n",
        "    return img.reshape(shape)"
      ]
    },
    {
      "cell_type": "code",
      "execution_count": null,
      "metadata": {
        "colab": {
          "base_uri": "https://localhost:8080/"
        },
        "id": "j-uK2Aarm-8f",
        "outputId": "aa556d93-2c55-400d-c086-3066765b5dbe"
      },
      "outputs": [
        {
          "name": "stdout",
          "output_type": "stream",
          "text": [
            "TEST_60636.png\n",
            "TEST_60637.png\n",
            "TEST_60638.png\n",
            "TEST_60639.png\n"
          ]
        }
      ],
      "source": [
        "import pandas as pd\n",
        "import numpy as np\n",
        "from IPython.display import clear_output\n",
        "\n",
        "def rle_encode(mask):\n",
        "    pixels = mask.flatten()\n",
        "    pixels = np.concatenate([[0], pixels, [0]])\n",
        "    runs = np.where(pixels[1:] != pixels[:-1])[0] + 1\n",
        "    runs[1::2] -= runs[::2]\n",
        "    return ' '.join(str(x) for x in runs)\n",
        "\n",
        "row_count = 60640\n",
        "column_count = 2\n",
        "column_names = ['img_id', 'mask_rle']\n",
        "\n",
        "# img_id 값을 생성\n",
        "img_ids = ['TEST_{:05d}'.format(i) for i in range(row_count)]\n",
        "\n",
        "# mask_rle 값을 초기화\n",
        "mask_rle = [''] * row_count\n",
        "\n",
        "# DataFrame 생성\n",
        "data = {'img_id': img_ids, 'mask_rle': mask_rle}\n",
        "df = pd.DataFrame(data, columns=column_names)\n",
        "\n",
        "for i in range(60640) :\n",
        "  file_prefix = \"TEST_\"\n",
        "  file_name = f\"{file_prefix}{i:05}.png\"\n",
        "  results = model.predict(\"/content/test_img/\"+file_name,\n",
        "                          imgsz=(224,224), iou=0.5, conf=0.25,\n",
        "                          save_conf=False, save=False, save_txt=False,\n",
        "                          name=\"predict\", exist_ok=True, device=0,verbose=False, show_labels=True, retina_masks=True, augment=False)\n",
        "  print(file_name)\n",
        "  mask = results[0].masks\n",
        "  if mask is None :\n",
        "    df.iloc[i,1] = -1\n",
        "  else :\n",
        "    mask_xy_8 = mask.data\n",
        "    mask_xy= mask_xy_8.any(dim=0).int()\n",
        "    mask_cpu= mask_xy.cpu()\n",
        "    mask_rle = rle_encode(mask_cpu.numpy())\n",
        "    df.iloc[i,1] = mask_rle\n",
        "\n",
        "  if i % 5 == 0:\n",
        "    clear_output(wait=True)"
      ]
    },
    {
      "cell_type": "code",
      "execution_count": null,
      "metadata": {
        "colab": {
          "base_uri": "https://localhost:8080/"
        },
        "id": "y5MuFJKeaFzu",
        "outputId": "dac4a84e-5403-4bda-e8dc-52019edce045"
      },
      "outputs": [
        {
          "name": "stderr",
          "output_type": "stream",
          "text": [
            "Results saved to \u001b[1mruns/segment/predict\u001b[0m\n"
          ]
        }
      ],
      "source": [
        "results = model.predict(\"/content/test_img/TEST_33330.png\",\n",
        "                          imgsz=(224,224), iou=0.7, conf=0.25,\n",
        "                          save_conf=False, save=True, save_txt=False,\n",
        "                          name=\"predict\", exist_ok=True, device=0,verbose=False, show_labels=False, retina_masks=True, augment=False)"
      ]
    },
    {
      "cell_type": "code",
      "execution_count": null,
      "metadata": {
        "colab": {
          "base_uri": "https://localhost:8080/",
          "height": 35
        },
        "id": "_b-_Lbknp3MY",
        "outputId": "ed9b8677-3fe7-4ecd-b42f-3eb0ba0e40bb"
      },
      "outputs": [
        {
          "data": {
            "application/vnd.google.colaboratory.intrinsic+json": {
              "type": "string"
            },
            "text/plain": [
              "'/content/drive/MyDrive/EasyAppLock/best.pt'"
            ]
          },
          "execution_count": 7,
          "metadata": {},
          "output_type": "execute_result"
        }
      ],
      "source": [
        "#df.to_csv(\"/content/drive/MyDrive/predict_result25.csv\", index=False)\n",
        "shutil.move('/content/Aerial_Segmentation/train/weights/best.pt', '/content/drive/MyDrive/EasyAppLock')"
      ]
    },
    {
      "cell_type": "code",
      "execution_count": null,
      "metadata": {
        "colab": {
          "base_uri": "https://localhost:8080/",
          "height": 424
        },
        "id": "6t7GjseQr5yB",
        "outputId": "b5288b1b-499d-476b-ad96-d406a28b7ff2"
      },
      "outputs": [
        {
          "data": {
            "text/html": [
              "\n",
              "\n",
              "  <div id=\"df-e07a1f20-5607-46d7-8350-b68ba69a1e00\">\n",
              "    <div class=\"colab-df-container\">\n",
              "      <div>\n",
              "<style scoped>\n",
              "    .dataframe tbody tr th:only-of-type {\n",
              "        vertical-align: middle;\n",
              "    }\n",
              "\n",
              "    .dataframe tbody tr th {\n",
              "        vertical-align: top;\n",
              "    }\n",
              "\n",
              "    .dataframe thead th {\n",
              "        text-align: right;\n",
              "    }\n",
              "</style>\n",
              "<table border=\"1\" class=\"dataframe\">\n",
              "  <thead>\n",
              "    <tr style=\"text-align: right;\">\n",
              "      <th></th>\n",
              "      <th>img_id</th>\n",
              "      <th>mask_rle</th>\n",
              "    </tr>\n",
              "  </thead>\n",
              "  <tbody>\n",
              "    <tr>\n",
              "      <th>0</th>\n",
              "      <td>TEST_00000</td>\n",
              "      <td>5073 6 5089 4 5185 6 5200 5 5297 11 5310 7 540...</td>\n",
              "    </tr>\n",
              "    <tr>\n",
              "      <th>1</th>\n",
              "      <td>TEST_00001</td>\n",
              "      <td>9071 2 9181 4 9291 6 9401 8 9513 8 9625 8 9738...</td>\n",
              "    </tr>\n",
              "    <tr>\n",
              "      <th>2</th>\n",
              "      <td>TEST_00002</td>\n",
              "      <td>-1</td>\n",
              "    </tr>\n",
              "    <tr>\n",
              "      <th>3</th>\n",
              "      <td>TEST_00003</td>\n",
              "      <td>122 13 150 1 234 13 346 14 458 14 559 2 562 3 ...</td>\n",
              "    </tr>\n",
              "    <tr>\n",
              "      <th>4</th>\n",
              "      <td>TEST_00004</td>\n",
              "      <td>4302 22 4414 22 4526 22 4638 23 4676 16 4750 2...</td>\n",
              "    </tr>\n",
              "    <tr>\n",
              "      <th>...</th>\n",
              "      <td>...</td>\n",
              "      <td>...</td>\n",
              "    </tr>\n",
              "    <tr>\n",
              "      <th>60635</th>\n",
              "      <td>TEST_60635</td>\n",
              "      <td></td>\n",
              "    </tr>\n",
              "    <tr>\n",
              "      <th>60636</th>\n",
              "      <td>TEST_60636</td>\n",
              "      <td></td>\n",
              "    </tr>\n",
              "    <tr>\n",
              "      <th>60637</th>\n",
              "      <td>TEST_60637</td>\n",
              "      <td></td>\n",
              "    </tr>\n",
              "    <tr>\n",
              "      <th>60638</th>\n",
              "      <td>TEST_60638</td>\n",
              "      <td></td>\n",
              "    </tr>\n",
              "    <tr>\n",
              "      <th>60639</th>\n",
              "      <td>TEST_60639</td>\n",
              "      <td></td>\n",
              "    </tr>\n",
              "  </tbody>\n",
              "</table>\n",
              "<p>60640 rows × 2 columns</p>\n",
              "</div>\n",
              "      <button class=\"colab-df-convert\" onclick=\"convertToInteractive('df-e07a1f20-5607-46d7-8350-b68ba69a1e00')\"\n",
              "              title=\"Convert this dataframe to an interactive table.\"\n",
              "              style=\"display:none;\">\n",
              "\n",
              "  <svg xmlns=\"http://www.w3.org/2000/svg\" height=\"24px\"viewBox=\"0 0 24 24\"\n",
              "       width=\"24px\">\n",
              "    <path d=\"M0 0h24v24H0V0z\" fill=\"none\"/>\n",
              "    <path d=\"M18.56 5.44l.94 2.06.94-2.06 2.06-.94-2.06-.94-.94-2.06-.94 2.06-2.06.94zm-11 1L8.5 8.5l.94-2.06 2.06-.94-2.06-.94L8.5 2.5l-.94 2.06-2.06.94zm10 10l.94 2.06.94-2.06 2.06-.94-2.06-.94-.94-2.06-.94 2.06-2.06.94z\"/><path d=\"M17.41 7.96l-1.37-1.37c-.4-.4-.92-.59-1.43-.59-.52 0-1.04.2-1.43.59L10.3 9.45l-7.72 7.72c-.78.78-.78 2.05 0 2.83L4 21.41c.39.39.9.59 1.41.59.51 0 1.02-.2 1.41-.59l7.78-7.78 2.81-2.81c.8-.78.8-2.07 0-2.86zM5.41 20L4 18.59l7.72-7.72 1.47 1.35L5.41 20z\"/>\n",
              "  </svg>\n",
              "      </button>\n",
              "\n",
              "\n",
              "\n",
              "    <div id=\"df-a72de330-bc65-42c9-a810-142937f155d0\">\n",
              "      <button class=\"colab-df-quickchart\" onclick=\"quickchart('df-a72de330-bc65-42c9-a810-142937f155d0')\"\n",
              "              title=\"Suggest charts.\"\n",
              "              style=\"display:none;\">\n",
              "\n",
              "<svg xmlns=\"http://www.w3.org/2000/svg\" height=\"24px\"viewBox=\"0 0 24 24\"\n",
              "     width=\"24px\">\n",
              "    <g>\n",
              "        <path d=\"M19 3H5c-1.1 0-2 .9-2 2v14c0 1.1.9 2 2 2h14c1.1 0 2-.9 2-2V5c0-1.1-.9-2-2-2zM9 17H7v-7h2v7zm4 0h-2V7h2v10zm4 0h-2v-4h2v4z\"/>\n",
              "    </g>\n",
              "</svg>\n",
              "      </button>\n",
              "    </div>\n",
              "\n",
              "<style>\n",
              "  .colab-df-quickchart {\n",
              "    background-color: #E8F0FE;\n",
              "    border: none;\n",
              "    border-radius: 50%;\n",
              "    cursor: pointer;\n",
              "    display: none;\n",
              "    fill: #1967D2;\n",
              "    height: 32px;\n",
              "    padding: 0 0 0 0;\n",
              "    width: 32px;\n",
              "  }\n",
              "\n",
              "  .colab-df-quickchart:hover {\n",
              "    background-color: #E2EBFA;\n",
              "    box-shadow: 0px 1px 2px rgba(60, 64, 67, 0.3), 0px 1px 3px 1px rgba(60, 64, 67, 0.15);\n",
              "    fill: #174EA6;\n",
              "  }\n",
              "\n",
              "  [theme=dark] .colab-df-quickchart {\n",
              "    background-color: #3B4455;\n",
              "    fill: #D2E3FC;\n",
              "  }\n",
              "\n",
              "  [theme=dark] .colab-df-quickchart:hover {\n",
              "    background-color: #434B5C;\n",
              "    box-shadow: 0px 1px 3px 1px rgba(0, 0, 0, 0.15);\n",
              "    filter: drop-shadow(0px 1px 2px rgba(0, 0, 0, 0.3));\n",
              "    fill: #FFFFFF;\n",
              "  }\n",
              "</style>\n",
              "\n",
              "    <script>\n",
              "      async function quickchart(key) {\n",
              "        const containerElement = document.querySelector('#' + key);\n",
              "        const charts = await google.colab.kernel.invokeFunction(\n",
              "            'suggestCharts', [key], {});\n",
              "      }\n",
              "    </script>\n",
              "\n",
              "      <script>\n",
              "\n",
              "function displayQuickchartButton(domScope) {\n",
              "  let quickchartButtonEl =\n",
              "    domScope.querySelector('#df-a72de330-bc65-42c9-a810-142937f155d0 button.colab-df-quickchart');\n",
              "  quickchartButtonEl.style.display =\n",
              "    google.colab.kernel.accessAllowed ? 'block' : 'none';\n",
              "}\n",
              "\n",
              "        displayQuickchartButton(document);\n",
              "      </script>\n",
              "      <style>\n",
              "    .colab-df-container {\n",
              "      display:flex;\n",
              "      flex-wrap:wrap;\n",
              "      gap: 12px;\n",
              "    }\n",
              "\n",
              "    .colab-df-convert {\n",
              "      background-color: #E8F0FE;\n",
              "      border: none;\n",
              "      border-radius: 50%;\n",
              "      cursor: pointer;\n",
              "      display: none;\n",
              "      fill: #1967D2;\n",
              "      height: 32px;\n",
              "      padding: 0 0 0 0;\n",
              "      width: 32px;\n",
              "    }\n",
              "\n",
              "    .colab-df-convert:hover {\n",
              "      background-color: #E2EBFA;\n",
              "      box-shadow: 0px 1px 2px rgba(60, 64, 67, 0.3), 0px 1px 3px 1px rgba(60, 64, 67, 0.15);\n",
              "      fill: #174EA6;\n",
              "    }\n",
              "\n",
              "    [theme=dark] .colab-df-convert {\n",
              "      background-color: #3B4455;\n",
              "      fill: #D2E3FC;\n",
              "    }\n",
              "\n",
              "    [theme=dark] .colab-df-convert:hover {\n",
              "      background-color: #434B5C;\n",
              "      box-shadow: 0px 1px 3px 1px rgba(0, 0, 0, 0.15);\n",
              "      filter: drop-shadow(0px 1px 2px rgba(0, 0, 0, 0.3));\n",
              "      fill: #FFFFFF;\n",
              "    }\n",
              "  </style>\n",
              "\n",
              "      <script>\n",
              "        const buttonEl =\n",
              "          document.querySelector('#df-e07a1f20-5607-46d7-8350-b68ba69a1e00 button.colab-df-convert');\n",
              "        buttonEl.style.display =\n",
              "          google.colab.kernel.accessAllowed ? 'block' : 'none';\n",
              "\n",
              "        async function convertToInteractive(key) {\n",
              "          const element = document.querySelector('#df-e07a1f20-5607-46d7-8350-b68ba69a1e00');\n",
              "          const dataTable =\n",
              "            await google.colab.kernel.invokeFunction('convertToInteractive',\n",
              "                                                     [key], {});\n",
              "          if (!dataTable) return;\n",
              "\n",
              "          const docLinkHtml = 'Like what you see? Visit the ' +\n",
              "            '<a target=\"_blank\" href=https://colab.research.google.com/notebooks/data_table.ipynb>data table notebook</a>'\n",
              "            + ' to learn more about interactive tables.';\n",
              "          element.innerHTML = '';\n",
              "          dataTable['output_type'] = 'display_data';\n",
              "          await google.colab.output.renderOutput(dataTable, element);\n",
              "          const docLink = document.createElement('div');\n",
              "          docLink.innerHTML = docLinkHtml;\n",
              "          element.appendChild(docLink);\n",
              "        }\n",
              "      </script>\n",
              "    </div>\n",
              "  </div>\n"
            ],
            "text/plain": [
              "           img_id                                           mask_rle\n",
              "0      TEST_00000  5073 6 5089 4 5185 6 5200 5 5297 11 5310 7 540...\n",
              "1      TEST_00001  9071 2 9181 4 9291 6 9401 8 9513 8 9625 8 9738...\n",
              "2      TEST_00002                                                 -1\n",
              "3      TEST_00003  122 13 150 1 234 13 346 14 458 14 559 2 562 3 ...\n",
              "4      TEST_00004  4302 22 4414 22 4526 22 4638 23 4676 16 4750 2...\n",
              "...           ...                                                ...\n",
              "60635  TEST_60635                                                   \n",
              "60636  TEST_60636                                                   \n",
              "60637  TEST_60637                                                   \n",
              "60638  TEST_60638                                                   \n",
              "60639  TEST_60639                                                   \n",
              "\n",
              "[60640 rows x 2 columns]"
            ]
          },
          "execution_count": 212,
          "metadata": {},
          "output_type": "execute_result"
        }
      ],
      "source": [
        "df"
      ]
    },
    {
      "cell_type": "code",
      "execution_count": null,
      "metadata": {
        "id": "2KtcW6V3l0Vv"
      },
      "outputs": [],
      "source": [
        "from ultralytics import YOLO\n",
        "import numpy as np\n",
        "import cv2\n",
        "import PIL\n",
        "model = YOLO(\"/content/Aerial_Segmentation/train/weights/best.pt\")\n"
      ]
    },
    {
      "cell_type": "code",
      "execution_count": null,
      "metadata": {
        "id": "bVVXd0X8nBeI"
      },
      "outputs": [],
      "source": [
        "from PIL import Image\n",
        "import cv2\n",
        "import albumentations as A\n",
        "import matplotlib.pyplot as plt\n",
        "from tqdm import tqdm\n",
        "import glob\n",
        "import os\n",
        "# x축 대칭 변형\n",
        "#transform = A.Compose([\n",
        "#    A.VerticalFlip(p=1)\n",
        "#])\n",
        "\n",
        "# y축 대칭 변형\n",
        "#transform = A.Compose([\n",
        "#    A.HorizontalFlip(p=1)\n",
        "#])\n",
        "\n",
        "# transpose\n",
        "transform = A.Compose([\n",
        "    A.Transpose(p=1)\n",
        "])\n",
        "\n",
        "\n",
        "\n",
        "\n",
        "input_folder = \"/content/train_img\" # 원본 이미지 폴더 경로\n",
        "output_folder = \"/content/val/images\" # 변형 이미지 폴더 경로\n",
        "\n",
        "\n",
        "# input_folder 안의 모든 이미지 파일을 가져와서 변형을 적용하고 저장합니다.\n",
        "for filename in os.listdir(input_folder):\n",
        "    if filename.endswith(\".png\"):\n",
        "        image = cv2.imread(os.path.join(input_folder, filename))\n",
        "\n",
        "        transformed = transform(image=image)\n",
        "        transformed_image = transformed[\"image\"]\n",
        "\n",
        "        output_path = os.path.join(output_folder, \"transpose_\" + filename)\n",
        "        cv2.imwrite(output_path, transformed_image)\n",
        "def swap_coordinates(line):\n",
        "    coordinates = line.split()  # 공백을 기준으로 좌표들을 분리\n",
        "    # x와 y 좌표를 서로 바꾸기\n",
        "    swapped_coordinates = ' '.join([coordinates[i + 1] if i % 2 == 0 else coordinates[i - 1] for i in range(len(coordinates))])\n",
        "    return swapped_coordinates\n",
        "\n",
        "label_input_folder = \"/content/label/home/hawk/decs_jupyter_lab/dataset/converted_4\" # 원본 이미지 폴더 경로\n",
        "label_output_folder = \"/content/val/labels\" # 변형 이미지 폴더 경로\n",
        "\n",
        "for filename in os.listdir(label_input_folder):\n",
        "    if filename.endswith(\".txt\"):\n",
        "        iinput_file = os.path.join(label_input_folder, filename)\n",
        "        ooutput_file = os.path.join(label_output_folder, \"transpose_\" + filename)\n",
        "        with open(iinput_file, 'r') as input_file:\n",
        "            lines = input_file.readlines()\n",
        "\n",
        "        with open(ooutput_file, 'w') as output_file:\n",
        "            for line in lines:\n",
        "                swapped_line = swap_coordinates(line[1::])\n",
        "                output_file.write('0 ' + swapped_line + '\\n')\n",
        "\n",
        "        output_path = os.path.join(label_output_folder, \"transpose_\" + filename)\n"
      ]
    },
    {
      "cell_type": "code",
      "execution_count": null,
      "metadata": {
        "id": "xElaROH_qcCf"
      },
      "outputs": [],
      "source": []
    },
    {
      "cell_type": "code",
      "execution_count": null,
      "metadata": {
        "colab": {
          "base_uri": "https://localhost:8080/"
        },
        "id": "s5eTZdDhqs_8",
        "outputId": "13e2692a-0131-417e-f41b-10e74d2b8fba"
      },
      "outputs": [
        {
          "name": "stdout",
          "output_type": "stream",
          "text": [
            "Collecting cupy\n",
            "  Using cached cupy-12.1.0.tar.gz (2.0 MB)\n",
            "  Preparing metadata (setup.py) ... \u001b[?25l\u001b[?25hdone\n",
            "Requirement already satisfied: numpy<1.27,>=1.20 in /usr/local/lib/python3.10/dist-packages (from cupy) (1.22.4)\n",
            "Requirement already satisfied: fastrlock>=0.5 in /usr/local/lib/python3.10/dist-packages (from cupy) (0.8.1)\n",
            "Building wheels for collected packages: cupy\n",
            "  Building wheel for cupy (setup.py) ... \u001b[?25l\u001b[?25hcanceled\n",
            "\u001b[31mERROR: Operation cancelled by user\u001b[0m\u001b[31m\n",
            "\u001b[0m"
          ]
        }
      ],
      "source": []
    },
    {
      "cell_type": "code",
      "execution_count": null,
      "metadata": {
        "colab": {
          "base_uri": "https://localhost:8080/"
        },
        "id": "xBXRIw6_MbMQ",
        "outputId": "ddef98c3-1601-4e74-fa14-9e5fbb9b3292"
      },
      "outputs": [
        {
          "name": "stdout",
          "output_type": "stream",
          "text": [
            "Collecting rapid\n",
            "  Downloading rapid-0.0.3.zip (4.7 kB)\n",
            "  Preparing metadata (setup.py) ... \u001b[?25l\u001b[?25hdone\n",
            "Building wheels for collected packages: rapid\n",
            "  Building wheel for rapid (setup.py) ... \u001b[?25l\u001b[?25hdone\n",
            "  Created wheel for rapid: filename=rapid-0.0.3-py3-none-any.whl size=3761 sha256=fb768f32459f6540531887c1d201429834069ad29c81d4583657f84ea0c0f6b1\n",
            "  Stored in directory: /root/.cache/pip/wheels/95/11/b8/5576e15fcd5af1ad8720de739bdb925f3c613f7a7654b42b1f\n",
            "Successfully built rapid\n",
            "Installing collected packages: rapid\n",
            "Successfully installed rapid-0.0.3\n"
          ]
        }
      ],
      "source": []
    },
    {
      "cell_type": "code",
      "execution_count": null,
      "metadata": {
        "colab": {
          "base_uri": "https://localhost:8080/"
        },
        "id": "gvrHW82-M0_v",
        "outputId": "bc9ef578-3ccc-4149-c679-1c2e9b14060d"
      },
      "outputs": [
        {
          "name": "stdout",
          "output_type": "stream",
          "text": [
            "torch.Size([224, 224])\n"
          ]
        }
      ],
      "source": []
    },
    {
      "cell_type": "code",
      "execution_count": null,
      "metadata": {
        "id": "4YxXehFXkQDn"
      },
      "outputs": [],
      "source": []
    }
  ],
  "metadata": {
    "accelerator": "GPU",
    "colab": {
      "machine_shape": "hm",
      "provenance": []
    },
    "kernelspec": {
      "display_name": "Python 3",
      "name": "python3"
    },
    "language_info": {
      "name": "python"
    }
  },
  "nbformat": 4,
  "nbformat_minor": 0
}