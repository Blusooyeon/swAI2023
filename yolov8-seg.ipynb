{
  "cells": [
    {
      "cell_type": "markdown",
      "metadata": {
        "id": "Otpp2vCV9kPt"
      },
      "source": []
    },
    {
      "cell_type": "code",
      "execution_count": null,
      "metadata": {
        "colab": {
          "base_uri": "https://localhost:8080/"
        },
        "id": "x0oPyCo3oM96",
        "outputId": "65443de2-dd7e-4135-b621-5ade92ef7a52"
      },
      "outputs": [
        {
          "name": "stdout",
          "output_type": "stream",
          "text": [
            "Collecting ultralytics\n",
            "  Downloading ultralytics-8.0.143-py3-none-any.whl (604 kB)\n",
            "\u001b[?25l     \u001b[90m━━━━━━━━━━━━━━━━━━━━━━━━━━━━━━━━━━━━━━━━\u001b[0m \u001b[32m0.0/605.0 kB\u001b[0m \u001b[31m?\u001b[0m eta \u001b[36m-:--:--\u001b[0m\r\u001b[2K     \u001b[91m━━━━━━━\u001b[0m\u001b[91m╸\u001b[0m\u001b[90m━━━━━━━━━━━━━━━━━━━━━━━━━━━━━━━\u001b[0m \u001b[32m122.9/605.0 kB\u001b[0m \u001b[31m3.6 MB/s\u001b[0m eta \u001b[36m0:00:01\u001b[0m\r\u001b[2K     \u001b[90m━━━━━━━━━━━━━━━━━━━━━━━━━━━━━━━━━━━━━━\u001b[0m \u001b[32m605.0/605.0 kB\u001b[0m \u001b[31m11.6 MB/s\u001b[0m eta \u001b[36m0:00:00\u001b[0m\n",
            "\u001b[?25hRequirement already satisfied: matplotlib>=3.2.2 in /usr/local/lib/python3.10/dist-packages (from ultralytics) (3.7.1)\n",
            "Requirement already satisfied: opencv-python>=4.6.0 in /usr/local/lib/python3.10/dist-packages (from ultralytics) (4.7.0.72)\n",
            "Requirement already satisfied: pillow>=7.1.2 in /usr/local/lib/python3.10/dist-packages (from ultralytics) (9.4.0)\n",
            "Requirement already satisfied: pyyaml>=5.3.1 in /usr/local/lib/python3.10/dist-packages (from ultralytics) (6.0.1)\n",
            "Requirement already satisfied: requests>=2.23.0 in /usr/local/lib/python3.10/dist-packages (from ultralytics) (2.27.1)\n",
            "Requirement already satisfied: scipy>=1.4.1 in /usr/local/lib/python3.10/dist-packages (from ultralytics) (1.10.1)\n",
            "Requirement already satisfied: torch>=1.7.0 in /usr/local/lib/python3.10/dist-packages (from ultralytics) (2.0.1+cu118)\n",
            "Requirement already satisfied: torchvision>=0.8.1 in /usr/local/lib/python3.10/dist-packages (from ultralytics) (0.15.2+cu118)\n",
            "Requirement already satisfied: tqdm>=4.64.0 in /usr/local/lib/python3.10/dist-packages (from ultralytics) (4.65.0)\n",
            "Requirement already satisfied: pandas>=1.1.4 in /usr/local/lib/python3.10/dist-packages (from ultralytics) (1.5.3)\n",
            "Requirement already satisfied: seaborn>=0.11.0 in /usr/local/lib/python3.10/dist-packages (from ultralytics) (0.12.2)\n",
            "Requirement already satisfied: psutil in /usr/local/lib/python3.10/dist-packages (from ultralytics) (5.9.5)\n",
            "Requirement already satisfied: py-cpuinfo in /usr/local/lib/python3.10/dist-packages (from ultralytics) (9.0.0)\n",
            "Requirement already satisfied: contourpy>=1.0.1 in /usr/local/lib/python3.10/dist-packages (from matplotlib>=3.2.2->ultralytics) (1.1.0)\n",
            "Requirement already satisfied: cycler>=0.10 in /usr/local/lib/python3.10/dist-packages (from matplotlib>=3.2.2->ultralytics) (0.11.0)\n",
            "Requirement already satisfied: fonttools>=4.22.0 in /usr/local/lib/python3.10/dist-packages (from matplotlib>=3.2.2->ultralytics) (4.41.1)\n",
            "Requirement already satisfied: kiwisolver>=1.0.1 in /usr/local/lib/python3.10/dist-packages (from matplotlib>=3.2.2->ultralytics) (1.4.4)\n",
            "Requirement already satisfied: numpy>=1.20 in /usr/local/lib/python3.10/dist-packages (from matplotlib>=3.2.2->ultralytics) (1.22.4)\n",
            "Requirement already satisfied: packaging>=20.0 in /usr/local/lib/python3.10/dist-packages (from matplotlib>=3.2.2->ultralytics) (23.1)\n",
            "Requirement already satisfied: pyparsing>=2.3.1 in /usr/local/lib/python3.10/dist-packages (from matplotlib>=3.2.2->ultralytics) (3.1.0)\n",
            "Requirement already satisfied: python-dateutil>=2.7 in /usr/local/lib/python3.10/dist-packages (from matplotlib>=3.2.2->ultralytics) (2.8.2)\n",
            "Requirement already satisfied: pytz>=2020.1 in /usr/local/lib/python3.10/dist-packages (from pandas>=1.1.4->ultralytics) (2022.7.1)\n",
            "Requirement already satisfied: urllib3<1.27,>=1.21.1 in /usr/local/lib/python3.10/dist-packages (from requests>=2.23.0->ultralytics) (1.26.16)\n",
            "Requirement already satisfied: certifi>=2017.4.17 in /usr/local/lib/python3.10/dist-packages (from requests>=2.23.0->ultralytics) (2023.7.22)\n",
            "Requirement already satisfied: charset-normalizer~=2.0.0 in /usr/local/lib/python3.10/dist-packages (from requests>=2.23.0->ultralytics) (2.0.12)\n",
            "Requirement already satisfied: idna<4,>=2.5 in /usr/local/lib/python3.10/dist-packages (from requests>=2.23.0->ultralytics) (3.4)\n",
            "Requirement already satisfied: filelock in /usr/local/lib/python3.10/dist-packages (from torch>=1.7.0->ultralytics) (3.12.2)\n",
            "Requirement already satisfied: typing-extensions in /usr/local/lib/python3.10/dist-packages (from torch>=1.7.0->ultralytics) (4.7.1)\n",
            "Requirement already satisfied: sympy in /usr/local/lib/python3.10/dist-packages (from torch>=1.7.0->ultralytics) (1.11.1)\n",
            "Requirement already satisfied: networkx in /usr/local/lib/python3.10/dist-packages (from torch>=1.7.0->ultralytics) (3.1)\n",
            "Requirement already satisfied: jinja2 in /usr/local/lib/python3.10/dist-packages (from torch>=1.7.0->ultralytics) (3.1.2)\n",
            "Requirement already satisfied: triton==2.0.0 in /usr/local/lib/python3.10/dist-packages (from torch>=1.7.0->ultralytics) (2.0.0)\n",
            "Requirement already satisfied: cmake in /usr/local/lib/python3.10/dist-packages (from triton==2.0.0->torch>=1.7.0->ultralytics) (3.25.2)\n",
            "Requirement already satisfied: lit in /usr/local/lib/python3.10/dist-packages (from triton==2.0.0->torch>=1.7.0->ultralytics) (16.0.6)\n",
            "Requirement already satisfied: six>=1.5 in /usr/local/lib/python3.10/dist-packages (from python-dateutil>=2.7->matplotlib>=3.2.2->ultralytics) (1.16.0)\n",
            "Requirement already satisfied: MarkupSafe>=2.0 in /usr/local/lib/python3.10/dist-packages (from jinja2->torch>=1.7.0->ultralytics) (2.1.3)\n",
            "Requirement already satisfied: mpmath>=0.19 in /usr/local/lib/python3.10/dist-packages (from sympy->torch>=1.7.0->ultralytics) (1.3.0)\n",
            "Installing collected packages: ultralytics\n",
            "Successfully installed ultralytics-8.0.143\n"
          ]
        }
      ],
      "source": [
        "!pip install ultralytics"
      ]
    },
    {
      "cell_type": "code",
      "execution_count": null,
      "metadata": {
        "colab": {
          "base_uri": "https://localhost:8080/"
        },
        "id": "zuRreo3IoUWR",
        "outputId": "f6810171-8190-4833-c811-16c3f5fcd255"
      },
      "outputs": [
        {
          "name": "stdout",
          "output_type": "stream",
          "text": [
            "\u001b[31mERROR: Could not find a version that satisfies the requirement cv2 (from versions: none)\u001b[0m\u001b[31m\n",
            "\u001b[0m\u001b[31mERROR: No matching distribution found for cv2\u001b[0m\u001b[31m\n",
            "\u001b[0m\u001b[31mERROR: Could not find a version that satisfies the requirement PIL (from versions: none)\u001b[0m\u001b[31m\n",
            "\u001b[0m\u001b[31mERROR: No matching distribution found for PIL\u001b[0m\u001b[31m\n",
            "\u001b[0m"
          ]
        }
      ],
      "source": [
        "!pip install cv2\n",
        "!pip install PIL"
      ]
    },
    {
      "cell_type": "code",
      "execution_count": null,
      "metadata": {
        "colab": {
          "base_uri": "https://localhost:8080/"
        },
        "id": "mQeXRx_GDmd1",
        "outputId": "f5b3297e-b285-4684-fa6f-5c1216f0e8f5"
      },
      "outputs": [
        {
          "name": "stdout",
          "output_type": "stream",
          "text": [
            "Drive already mounted at /content/drive; to attempt to forcibly remount, call drive.mount(\"/content/drive\", force_remount=True).\n"
          ]
        }
      ],
      "source": [
        "from google.colab import drive\n",
        "drive.mount('/content/drive')"
      ]
    },
    {
      "cell_type": "code",
      "execution_count": null,
      "metadata": {
        "id": "bVVXd0X8nBeI"
      },
      "outputs": [],
      "source": [
        "# valid set 생성\n",
        "from PIL import Image\n",
        "import cv2\n",
        "import albumentations as A\n",
        "import matplotlib.pyplot as plt\n",
        "from tqdm import tqdm\n",
        "import glob\n",
        "import os\n",
        "\n",
        "transform = A.Compose([\n",
        "    A.Transpose(p=1)\n",
        "])\n",
        "\n",
        "input_folder = \"/content/train_img\" # 원본 이미지 폴더 경로\n",
        "output_folder = \"/content/val/images\" # 변형 이미지 폴더 경로\n",
        "\n",
        "\n",
        "# input_folder 안의 모든 이미지 파일을 가져와서 변형을 적용하고 저장합니다.\n",
        "for filename in os.listdir(input_folder):\n",
        "    if filename.endswith(\".png\"):\n",
        "        image = cv2.imread(os.path.join(input_folder, filename))\n",
        "\n",
        "        transformed = transform(image=image)\n",
        "        transformed_image = transformed[\"image\"]\n",
        "\n",
        "        output_path = os.path.join(output_folder, \"transpose_\" + filename)\n",
        "        cv2.imwrite(output_path, transformed_image)\n",
        "def swap_coordinates(line):\n",
        "    coordinates = line.split()  # 공백을 기준으로 좌표들을 분리\n",
        "    # x와 y 좌표를 서로 바꾸기\n",
        "    swapped_coordinates = ' '.join([coordinates[i + 1] if i % 2 == 0 else coordinates[i - 1] for i in range(len(coordinates))])\n",
        "    return swapped_coordinates\n",
        "\n",
        "label_input_folder = \"/content/label/home/hawk/decs_jupyter_lab/dataset/converted_4\" # 원본 이미지 폴더 경로\n",
        "label_output_folder = \"/content/val/labels\" # 변형 이미지 폴더 경로\n",
        "\n",
        "for filename in os.listdir(label_input_folder):\n",
        "    if filename.endswith(\".txt\"):\n",
        "        iinput_file = os.path.join(label_input_folder, filename)\n",
        "        ooutput_file = os.path.join(label_output_folder, \"transpose_\" + filename)\n",
        "        with open(iinput_file, 'r') as input_file:\n",
        "            lines = input_file.readlines()\n",
        "\n",
        "        with open(ooutput_file, 'w') as output_file:\n",
        "            for line in lines:\n",
        "                swapped_line = swap_coordinates(line[1::])\n",
        "                output_file.write('0 ' + swapped_line + '\\n')\n",
        "\n",
        "        output_path = os.path.join(label_output_folder, \"transpose_\" + filename)\n"
      ]
    },
    {
      "cell_type": "code",
      "execution_count": null,
      "metadata": {
        "id": "N6dVULGp4J5c"
      },
      "outputs": [],
      "source": [
        "from ultralytics import YOLO\n",
        "\n",
        "# Load a model\n",
        "model = YOLO(\"yolov8x-seg.pt\")"
      ]
    },
    {
      "cell_type": "code",
      "execution_count": null,
      "metadata": {
        "colab": {
          "background_save": true,
          "base_uri": "https://localhost:8080/"
        },
        "id": "C6UqwbF8LbX7",
        "outputId": "24eb28cb-d40d-44ea-d761-26ff1245eec5"
      },
      "outputs": [
        {
          "name": "stderr",
          "output_type": "stream",
          "text": [
            "Ultralytics YOLOv8.0.143 🚀 Python-3.10.6 torch-2.0.1+cu118 CUDA:0 (NVIDIA A100-SXM4-40GB, 40514MiB)\n",
            "\u001b[34m\u001b[1mengine/trainer: \u001b[0mtask=segment, mode=train, model=yolov8x-seg.pt, data=/content/drive/MyDrive/Hoin.yaml, epochs=150, patience=5, batch=8, imgsz=1024, save=True, save_period=-1, cache=False, device=None, workers=16, project=Aerial_Segmentation, name=train, exist_ok=True, pretrained=False, optimizer=NAdam, verbose=True, seed=6666666, deterministic=True, single_cls=False, rect=False, cos_lr=True, close_mosaic=10, resume=False, amp=True, fraction=1.0, profile=False, overlap_mask=True, mask_ratio=4, dropout=0.0, val=True, split=val, save_json=False, save_hybrid=False, conf=None, iou=0.7, max_det=300, half=False, dnn=False, plots=True, source=None, show=False, save_txt=False, save_conf=False, save_crop=False, show_labels=True, show_conf=True, vid_stride=1, line_width=None, visualize=False, augment=False, agnostic_nms=False, classes=None, retina_masks=False, boxes=True, format=torchscript, keras=False, optimize=False, int8=False, dynamic=False, simplify=False, opset=None, workspace=4, nms=False, lr0=0.001, lrf=0.01, momentum=0.937, weight_decay=0.0005, warmup_epochs=3.0, warmup_momentum=0.8, warmup_bias_lr=0.1, box=7.5, cls=0.5, dfl=1.5, pose=12.0, kobj=1.0, label_smoothing=0.0, nbs=64, hsv_h=0.015, hsv_s=0.7, hsv_v=0.4, degrees=0.0, translate=0.1, scale=0.5, shear=0.0, perspective=0.0, flipud=0.0, fliplr=0.5, mosaic=1.0, mixup=0.0, copy_paste=0.0, cfg=None, tracker=botsort.yaml, save_dir=Aerial_Segmentation/train\n",
            "Overriding model.yaml nc=80 with nc=1\n",
            "\n",
            "                   from  n    params  module                                       arguments                     \n",
            "  0                  -1  1      2320  ultralytics.nn.modules.conv.Conv             [3, 80, 3, 2]                 \n",
            "  1                  -1  1    115520  ultralytics.nn.modules.conv.Conv             [80, 160, 3, 2]               \n",
            "  2                  -1  3    436800  ultralytics.nn.modules.block.C2f             [160, 160, 3, True]           \n",
            "  3                  -1  1    461440  ultralytics.nn.modules.conv.Conv             [160, 320, 3, 2]              \n",
            "  4                  -1  6   3281920  ultralytics.nn.modules.block.C2f             [320, 320, 6, True]           \n",
            "  5                  -1  1   1844480  ultralytics.nn.modules.conv.Conv             [320, 640, 3, 2]              \n",
            "  6                  -1  6  13117440  ultralytics.nn.modules.block.C2f             [640, 640, 6, True]           \n",
            "  7                  -1  1   3687680  ultralytics.nn.modules.conv.Conv             [640, 640, 3, 2]              \n",
            "  8                  -1  3   6969600  ultralytics.nn.modules.block.C2f             [640, 640, 3, True]           \n",
            "  9                  -1  1   1025920  ultralytics.nn.modules.block.SPPF            [640, 640, 5]                 \n",
            " 10                  -1  1         0  torch.nn.modules.upsampling.Upsample         [None, 2, 'nearest']          \n",
            " 11             [-1, 6]  1         0  ultralytics.nn.modules.conv.Concat           [1]                           \n",
            " 12                  -1  3   7379200  ultralytics.nn.modules.block.C2f             [1280, 640, 3]                \n",
            " 13                  -1  1         0  torch.nn.modules.upsampling.Upsample         [None, 2, 'nearest']          \n",
            " 14             [-1, 4]  1         0  ultralytics.nn.modules.conv.Concat           [1]                           \n",
            " 15                  -1  3   1948800  ultralytics.nn.modules.block.C2f             [960, 320, 3]                 \n",
            " 16                  -1  1    922240  ultralytics.nn.modules.conv.Conv             [320, 320, 3, 2]              \n",
            " 17            [-1, 12]  1         0  ultralytics.nn.modules.conv.Concat           [1]                           \n",
            " 18                  -1  3   7174400  ultralytics.nn.modules.block.C2f             [960, 640, 3]                 \n",
            " 19                  -1  1   3687680  ultralytics.nn.modules.conv.Conv             [640, 640, 3, 2]              \n",
            " 20             [-1, 9]  1         0  ultralytics.nn.modules.conv.Concat           [1]                           \n",
            " 21                  -1  3   7379200  ultralytics.nn.modules.block.C2f             [1280, 640, 3]                \n",
            " 22        [15, 18, 21]  1  12317171  ultralytics.nn.modules.head.Segment          [1, 32, 320, [320, 640, 640]] \n",
            "YOLOv8x-seg summary: 401 layers, 71751811 parameters, 71751795 gradients\n",
            "\n",
            "Transferred 651/657 items from pretrained weights\n",
            "\u001b[34m\u001b[1mTensorBoard: \u001b[0mStart with 'tensorboard --logdir Aerial_Segmentation/train', view at http://localhost:6006/\n",
            "\u001b[34m\u001b[1mAMP: \u001b[0mrunning Automatic Mixed Precision (AMP) checks with YOLOv8n...\n",
            "\u001b[34m\u001b[1mAMP: \u001b[0mchecks passed ✅\n",
            "\u001b[34m\u001b[1mtrain: \u001b[0mScanning /content/train/labels.cache... 7140 images, 1 backgrounds, 0 corrupt: 100%|██████████| 7140/7140 [00:00<?, ?it/s]\n",
            "\u001b[34m\u001b[1malbumentations: \u001b[0mBlur(p=0.01, blur_limit=(3, 7)), MedianBlur(p=0.01, blur_limit=(3, 7)), ToGray(p=0.01), CLAHE(p=0.01, clip_limit=(1, 4.0), tile_grid_size=(8, 8))\n",
            "\u001b[34m\u001b[1mval: \u001b[0mScanning /content/val/labels.cache... 1000 images, 1 backgrounds, 0 corrupt: 100%|██████████| 1000/1000 [00:00<?, ?it/s]\n",
            "Plotting labels to Aerial_Segmentation/train/labels.jpg... \n",
            "\u001b[34m\u001b[1moptimizer:\u001b[0m NAdam(lr=0.001, momentum=0.937) with parameter groups 106 weight(decay=0.0), 117 weight(decay=0.0005), 116 bias(decay=0.0)\n",
            "Image sizes 1024 train, 1024 val\n",
            "Using 8 dataloader workers\n",
            "Logging results to \u001b[1mAerial_Segmentation/train\u001b[0m\n",
            "Starting training for 150 epochs...\n",
            "\n",
            "      Epoch    GPU_mem   box_loss   seg_loss   cls_loss   dfl_loss  Instances       Size\n",
            "      1/150      36.9G      1.444      2.126     0.8938      1.058        378       1024: 100%|██████████| 893/893 [10:14<00:00,  1.45it/s]\n",
            "                 Class     Images  Instances      Box(P          R      mAP50  mAP50-95)     Mask(P          R      mAP50  mAP50-95): 100%|██████████| 63/63 [00:32<00:00,  1.92it/s]\n",
            "                   all       1000      65963      0.849      0.752      0.818      0.495      0.846      0.747      0.807      0.445\n",
            "\n",
            "      Epoch    GPU_mem   box_loss   seg_loss   cls_loss   dfl_loss  Instances       Size\n",
            "      2/150        35G      1.398      1.951     0.8001      1.046        525       1024: 100%|██████████| 893/893 [09:55<00:00,  1.50it/s]\n",
            "                 Class     Images  Instances      Box(P          R      mAP50  mAP50-95)     Mask(P          R      mAP50  mAP50-95): 100%|██████████| 63/63 [00:35<00:00,  1.79it/s]\n",
            "                   all       1000      65963      0.865      0.777      0.843       0.52      0.864      0.771      0.838      0.469\n",
            "\n",
            "      Epoch    GPU_mem   box_loss   seg_loss   cls_loss   dfl_loss  Instances       Size\n",
            "      3/150      32.8G      1.391      1.932     0.7824      1.045        169       1024: 100%|██████████| 893/893 [09:54<00:00,  1.50it/s]\n",
            "                 Class     Images  Instances      Box(P          R      mAP50  mAP50-95)     Mask(P          R      mAP50  mAP50-95): 100%|██████████| 63/63 [00:35<00:00,  1.78it/s]\n",
            "                   all       1000      65963      0.869      0.775      0.848      0.537      0.866      0.763      0.835      0.457\n",
            "\n",
            "      Epoch    GPU_mem   box_loss   seg_loss   cls_loss   dfl_loss  Instances       Size\n",
            "      4/150      35.8G      1.344      1.854     0.7518      1.029        134       1024: 100%|██████████| 893/893 [09:57<00:00,  1.49it/s]\n",
            "                 Class     Images  Instances      Box(P          R      mAP50  mAP50-95)     Mask(P          R      mAP50  mAP50-95): 100%|██████████| 63/63 [00:35<00:00,  1.78it/s]\n",
            "                   all       1000      65963      0.879      0.796      0.862      0.555      0.874      0.783      0.849      0.475\n",
            "\n",
            "      Epoch    GPU_mem   box_loss   seg_loss   cls_loss   dfl_loss  Instances       Size\n",
            "      5/150      34.3G      1.308      1.819     0.7127      1.014        348       1024: 100%|██████████| 893/893 [09:56<00:00,  1.50it/s]\n",
            "                 Class     Images  Instances      Box(P          R      mAP50  mAP50-95)     Mask(P          R      mAP50  mAP50-95): 100%|██████████| 63/63 [00:36<00:00,  1.74it/s]\n",
            "                   all       1000      65963      0.883      0.804      0.869      0.566      0.882      0.798      0.863      0.503\n",
            "\n",
            "      Epoch    GPU_mem   box_loss   seg_loss   cls_loss   dfl_loss  Instances       Size\n",
            "      6/150      34.5G       1.28      1.777     0.6886      1.006        312       1024: 100%|██████████| 893/893 [09:59<00:00,  1.49it/s]\n",
            "                 Class     Images  Instances      Box(P          R      mAP50  mAP50-95)     Mask(P          R      mAP50  mAP50-95): 100%|██████████| 63/63 [00:36<00:00,  1.72it/s]\n",
            "                   all       1000      65963      0.885      0.817      0.875      0.563       0.88      0.804      0.862      0.478\n",
            "\n",
            "      Epoch    GPU_mem   box_loss   seg_loss   cls_loss   dfl_loss  Instances       Size\n",
            "      7/150      37.7G      1.264      1.742     0.6754          1        255       1024: 100%|██████████| 893/893 [09:55<00:00,  1.50it/s]\n",
            "                 Class     Images  Instances      Box(P          R      mAP50  mAP50-95)     Mask(P          R      mAP50  mAP50-95): 100%|██████████| 63/63 [00:35<00:00,  1.76it/s]\n",
            "                   all       1000      65963      0.881      0.821      0.876      0.564      0.879      0.815       0.87      0.507\n",
            "\n",
            "      Epoch    GPU_mem   box_loss   seg_loss   cls_loss   dfl_loss  Instances       Size\n",
            "      8/150        33G      1.244      1.708     0.6637     0.9907        327       1024: 100%|██████████| 893/893 [09:56<00:00,  1.50it/s]\n",
            "                 Class     Images  Instances      Box(P          R      mAP50  mAP50-95)     Mask(P          R      mAP50  mAP50-95): 100%|██████████| 63/63 [00:35<00:00,  1.79it/s]\n",
            "                   all       1000      65963      0.887      0.819      0.875       0.57      0.882      0.806      0.863      0.491\n",
            "\n",
            "      Epoch    GPU_mem   box_loss   seg_loss   cls_loss   dfl_loss  Instances       Size\n",
            "      9/150      34.9G      1.232      1.688     0.6536     0.9897        383       1024: 100%|██████████| 893/893 [10:00<00:00,  1.49it/s]\n",
            "                 Class     Images  Instances      Box(P          R      mAP50  mAP50-95)     Mask(P          R      mAP50  mAP50-95): 100%|██████████| 63/63 [00:35<00:00,  1.79it/s]\n",
            "                   all       1000      65963       0.89      0.827      0.883      0.578      0.885      0.813       0.87      0.496\n",
            "\n",
            "      Epoch    GPU_mem   box_loss   seg_loss   cls_loss   dfl_loss  Instances       Size\n",
            "     10/150      32.5G       1.22      1.689     0.6515     0.9878        380       1024: 100%|██████████| 893/893 [09:53<00:00,  1.50it/s]\n",
            "                 Class     Images  Instances      Box(P          R      mAP50  mAP50-95)     Mask(P          R      mAP50  mAP50-95): 100%|██████████| 63/63 [00:35<00:00,  1.77it/s]\n",
            "                   all       1000      65963      0.892      0.831      0.885      0.586      0.888      0.818      0.873      0.506\n",
            "\n",
            "      Epoch    GPU_mem   box_loss   seg_loss   cls_loss   dfl_loss  Instances       Size\n",
            "     11/150      38.3G      1.208      1.666     0.6374     0.9849        224       1024: 100%|██████████| 893/893 [09:55<00:00,  1.50it/s]\n",
            "                 Class     Images  Instances      Box(P          R      mAP50  mAP50-95)     Mask(P          R      mAP50  mAP50-95): 100%|██████████| 63/63 [00:35<00:00,  1.79it/s]\n",
            "                   all       1000      65963      0.887      0.827       0.88      0.579      0.884      0.816      0.871      0.506\n",
            "\n",
            "      Epoch    GPU_mem   box_loss   seg_loss   cls_loss   dfl_loss  Instances       Size\n",
            "     12/150      39.8G      1.201      1.655     0.6294     0.9787        371       1024: 100%|██████████| 893/893 [09:57<00:00,  1.49it/s]\n",
            "                 Class     Images  Instances      Box(P          R      mAP50  mAP50-95)     Mask(P          R      mAP50  mAP50-95): 100%|██████████| 63/63 [00:33<00:00,  1.90it/s]\n",
            "                   all       1000      65963      0.897      0.826      0.886       0.59       0.89      0.815      0.873      0.507\n",
            "\n",
            "      Epoch    GPU_mem   box_loss   seg_loss   cls_loss   dfl_loss  Instances       Size\n",
            "     13/150      33.8G      1.195      1.651      0.626     0.9794        203       1024: 100%|██████████| 893/893 [09:50<00:00,  1.51it/s]\n",
            "                 Class     Images  Instances      Box(P          R      mAP50  mAP50-95)     Mask(P          R      mAP50  mAP50-95): 100%|██████████| 63/63 [00:35<00:00,  1.75it/s]\n",
            "                   all       1000      65963      0.895       0.83      0.887      0.585      0.889      0.819      0.876      0.509\n",
            "\n",
            "      Epoch    GPU_mem   box_loss   seg_loss   cls_loss   dfl_loss  Instances       Size\n",
            "     14/150      35.5G      1.187      1.639     0.6189     0.9748        113       1024: 100%|██████████| 893/893 [09:58<00:00,  1.49it/s]\n",
            "                 Class     Images  Instances      Box(P          R      mAP50  mAP50-95)     Mask(P          R      mAP50  mAP50-95): 100%|██████████| 63/63 [00:34<00:00,  1.80it/s]\n",
            "                   all       1000      65963      0.892      0.834      0.889      0.596      0.889      0.824      0.879      0.512\n",
            "\n",
            "      Epoch    GPU_mem   box_loss   seg_loss   cls_loss   dfl_loss  Instances       Size\n",
            "     15/150      34.8G      1.184      1.644     0.6223      0.977        425       1024: 100%|██████████| 893/893 [09:54<00:00,  1.50it/s]\n",
            "                 Class     Images  Instances      Box(P          R      mAP50  mAP50-95)     Mask(P          R      mAP50  mAP50-95): 100%|██████████| 63/63 [00:34<00:00,  1.84it/s]\n",
            "                   all       1000      65963      0.892      0.831      0.889      0.588      0.889      0.819      0.878      0.512\n",
            "\n",
            "      Epoch    GPU_mem   box_loss   seg_loss   cls_loss   dfl_loss  Instances       Size\n",
            "     16/150      30.6G      1.185       1.63     0.6176     0.9744        258       1024: 100%|██████████| 893/893 [09:56<00:00,  1.50it/s]\n",
            "                 Class     Images  Instances      Box(P          R      mAP50  mAP50-95)     Mask(P          R      mAP50  mAP50-95): 100%|██████████| 63/63 [00:34<00:00,  1.82it/s]\n",
            "                   all       1000      65963      0.895      0.834      0.889       0.59       0.89      0.823      0.878      0.511\n",
            "\n",
            "      Epoch    GPU_mem   box_loss   seg_loss   cls_loss   dfl_loss  Instances       Size\n",
            "     17/150      34.2G      1.167      1.615     0.6067     0.9688        278       1024: 100%|██████████| 893/893 [09:53<00:00,  1.50it/s]\n",
            "                 Class     Images  Instances      Box(P          R      mAP50  mAP50-95)     Mask(P          R      mAP50  mAP50-95): 100%|██████████| 63/63 [00:34<00:00,  1.80it/s]\n",
            "                   all       1000      65963      0.901       0.83       0.89      0.592      0.897      0.819       0.88      0.513\n",
            "\n",
            "      Epoch    GPU_mem   box_loss   seg_loss   cls_loss   dfl_loss  Instances       Size\n",
            "     18/150      36.4G      1.161      1.599     0.6017     0.9678        248       1024: 100%|██████████| 893/893 [09:53<00:00,  1.51it/s]\n",
            "                 Class     Images  Instances      Box(P          R      mAP50  mAP50-95)     Mask(P          R      mAP50  mAP50-95): 100%|██████████| 63/63 [00:36<00:00,  1.73it/s]\n",
            "                   all       1000      65963      0.894      0.838      0.891      0.593      0.888      0.825      0.878      0.508\n",
            "\n",
            "      Epoch    GPU_mem   box_loss   seg_loss   cls_loss   dfl_loss  Instances       Size\n",
            "     19/150      32.8G      1.164      1.613     0.6002     0.9672        288       1024: 100%|██████████| 893/893 [09:58<00:00,  1.49it/s]\n",
            "                 Class     Images  Instances      Box(P          R      mAP50  mAP50-95)     Mask(P          R      mAP50  mAP50-95): 100%|██████████| 63/63 [01:28<00:00,  1.40s/it]\n",
            "                   all       1000      65963      0.899      0.841      0.893        0.6      0.896      0.831      0.883      0.517\n",
            "\n",
            "      Epoch    GPU_mem   box_loss   seg_loss   cls_loss   dfl_loss  Instances       Size\n",
            "     20/150      31.9G      1.157      1.603     0.6004     0.9654        279       1024: 100%|██████████| 893/893 [09:51<00:00,  1.51it/s]\n",
            "                 Class     Images  Instances      Box(P          R      mAP50  mAP50-95)     Mask(P          R      mAP50  mAP50-95): 100%|██████████| 63/63 [00:33<00:00,  1.89it/s]\n",
            "                   all       1000      65963      0.897      0.839      0.891      0.595      0.893      0.828       0.88      0.514\n",
            "\n",
            "      Epoch    GPU_mem   box_loss   seg_loss   cls_loss   dfl_loss  Instances       Size\n",
            "     21/150        39G       1.16      1.599     0.6018     0.9654        428       1024: 100%|██████████| 893/893 [10:00<00:00,  1.49it/s]\n",
            "                 Class     Images  Instances      Box(P          R      mAP50  mAP50-95)     Mask(P          R      mAP50  mAP50-95): 100%|██████████| 63/63 [00:34<00:00,  1.81it/s]\n",
            "                   all       1000      65963      0.901      0.838      0.894      0.597      0.896      0.831      0.885      0.521\n",
            "\n",
            "      Epoch    GPU_mem   box_loss   seg_loss   cls_loss   dfl_loss  Instances       Size\n",
            "     22/150      33.5G      1.152      1.591     0.5951     0.9617        211       1024: 100%|██████████| 893/893 [10:02<00:00,  1.48it/s]\n",
            "                 Class     Images  Instances      Box(P          R      mAP50  mAP50-95)     Mask(P          R      mAP50  mAP50-95): 100%|██████████| 63/63 [00:34<00:00,  1.82it/s]\n",
            "                   all       1000      65963      0.897      0.841      0.892      0.595      0.894      0.831      0.883      0.515\n",
            "\n",
            "      Epoch    GPU_mem   box_loss   seg_loss   cls_loss   dfl_loss  Instances       Size\n",
            "     23/150      36.8G      1.154       1.59     0.5974      0.965        261       1024: 100%|██████████| 893/893 [09:54<00:00,  1.50it/s]\n",
            "                 Class     Images  Instances      Box(P          R      mAP50  mAP50-95)     Mask(P          R      mAP50  mAP50-95): 100%|██████████| 63/63 [00:38<00:00,  1.62it/s]\n",
            "                   all       1000      65963      0.899      0.844      0.895      0.601      0.894      0.834      0.885      0.519\n",
            "\n",
            "      Epoch    GPU_mem   box_loss   seg_loss   cls_loss   dfl_loss  Instances       Size\n",
            "     24/150      35.8G       1.14      1.582     0.5857     0.9609        369       1024: 100%|██████████| 893/893 [09:55<00:00,  1.50it/s]\n",
            "                 Class     Images  Instances      Box(P          R      mAP50  mAP50-95)     Mask(P          R      mAP50  mAP50-95): 100%|██████████| 63/63 [00:40<00:00,  1.57it/s]\n",
            "                   all       1000      65963      0.899      0.845      0.895      0.599      0.893      0.832      0.882      0.513\n",
            "\n",
            "      Epoch    GPU_mem   box_loss   seg_loss   cls_loss   dfl_loss  Instances       Size\n",
            "     25/150      34.1G      1.142      1.579     0.5858      0.958        476       1024: 100%|██████████| 893/893 [09:57<00:00,  1.49it/s]\n",
            "                 Class     Images  Instances      Box(P          R      mAP50  mAP50-95)     Mask(P          R      mAP50  mAP50-95): 100%|██████████| 63/63 [00:40<00:00,  1.57it/s]\n",
            "                   all       1000      65963      0.898      0.845      0.894      0.596      0.891      0.828       0.88       0.51\n",
            "\n",
            "      Epoch    GPU_mem   box_loss   seg_loss   cls_loss   dfl_loss  Instances       Size\n",
            "     26/150      36.2G      1.135       1.57     0.5825     0.9586        258       1024: 100%|██████████| 893/893 [09:49<00:00,  1.51it/s]\n",
            "                 Class     Images  Instances      Box(P          R      mAP50  mAP50-95)     Mask(P          R      mAP50  mAP50-95): 100%|██████████| 63/63 [00:41<00:00,  1.53it/s]\n",
            "                   all       1000      65963      0.899      0.843      0.896      0.601      0.893      0.831      0.885      0.522\n",
            "\n",
            "      Epoch    GPU_mem   box_loss   seg_loss   cls_loss   dfl_loss  Instances       Size\n",
            "     27/150        31G      1.132      1.561     0.5804     0.9564        306       1024: 100%|██████████| 893/893 [09:57<00:00,  1.49it/s]\n",
            "                 Class     Images  Instances      Box(P          R      mAP50  mAP50-95)     Mask(P          R      mAP50  mAP50-95): 100%|██████████| 63/63 [00:36<00:00,  1.73it/s]\n",
            "                   all       1000      65963      0.901      0.848      0.898      0.602      0.895      0.836      0.887      0.519\n",
            "\n",
            "      Epoch    GPU_mem   box_loss   seg_loss   cls_loss   dfl_loss  Instances       Size\n",
            "     28/150      33.6G       1.13      1.558     0.5778     0.9601        454       1024: 100%|██████████| 893/893 [09:56<00:00,  1.50it/s]\n",
            "                 Class     Images  Instances      Box(P          R      mAP50  mAP50-95)     Mask(P          R      mAP50  mAP50-95): 100%|██████████| 63/63 [00:38<00:00,  1.63it/s]\n",
            "                   all       1000      65963      0.901      0.846      0.898        0.6      0.895      0.835      0.887      0.519\n",
            "\n",
            "      Epoch    GPU_mem   box_loss   seg_loss   cls_loss   dfl_loss  Instances       Size\n",
            "     29/150        38G      1.125      1.553      0.576     0.9556        357       1024: 100%|██████████| 893/893 [09:52<00:00,  1.51it/s]\n",
            "                 Class     Images  Instances      Box(P          R      mAP50  mAP50-95)     Mask(P          R      mAP50  mAP50-95): 100%|██████████| 63/63 [00:33<00:00,  1.87it/s]\n",
            "                   all       1000      65963      0.901      0.846      0.897      0.595      0.898      0.836      0.888      0.519\n",
            "\n",
            "      Epoch    GPU_mem   box_loss   seg_loss   cls_loss   dfl_loss  Instances       Size\n",
            "     30/150      35.2G      1.123      1.554     0.5726     0.9541        376       1024: 100%|██████████| 893/893 [09:54<00:00,  1.50it/s]\n",
            "                 Class     Images  Instances      Box(P          R      mAP50  mAP50-95)     Mask(P          R      mAP50  mAP50-95): 100%|██████████| 63/63 [00:40<00:00,  1.56it/s]\n",
            "                   all       1000      65963      0.904      0.846      0.898      0.601      0.899      0.835      0.888      0.521\n",
            "\n",
            "      Epoch    GPU_mem   box_loss   seg_loss   cls_loss   dfl_loss  Instances       Size\n",
            "     31/150      31.8G      1.124      1.547      0.574     0.9537        279       1024: 100%|██████████| 893/893 [09:56<00:00,  1.50it/s]\n",
            "                 Class     Images  Instances      Box(P          R      mAP50  mAP50-95)     Mask(P          R      mAP50  mAP50-95):   2%|▏         | 1/63 [00:03<03:21,  3.25s/it]WARNING ⚠️ NMS time limit 1.300s exceeded\n",
            "                 Class     Images  Instances      Box(P          R      mAP50  mAP50-95)     Mask(P          R      mAP50  mAP50-95):   5%|▍         | 3/63 [01:38<41:23, 41.40s/it]WARNING ⚠️ NMS time limit 1.300s exceeded\n",
            "                 Class     Images  Instances      Box(P          R      mAP50  mAP50-95)     Mask(P          R      mAP50  mAP50-95): 100%|██████████| 63/63 [05:52<00:00,  5.59s/it]\n",
            "                   all       1000      65963      0.898      0.838      0.888      0.592      0.894      0.826      0.878      0.514\n",
            "Stopping training early as no improvement observed in last 5 epochs. Best results observed at epoch 26, best model saved as best.pt.\n",
            "To update EarlyStopping(patience=5) pass a new patience value, i.e. `patience=300` or use `patience=0` to disable EarlyStopping.\n",
            "\n",
            "31 epochs completed in 5.588 hours.\n",
            "Optimizer stripped from Aerial_Segmentation/train/weights/last.pt, 144.0MB\n",
            "Optimizer stripped from Aerial_Segmentation/train/weights/best.pt, 144.0MB\n",
            "\n",
            "Validating Aerial_Segmentation/train/weights/best.pt...\n",
            "Ultralytics YOLOv8.0.143 🚀 Python-3.10.6 torch-2.0.1+cu118 CUDA:0 (NVIDIA A100-SXM4-40GB, 40514MiB)\n",
            "YOLOv8x-seg summary (fused): 295 layers, 71721619 parameters, 0 gradients\n",
            "                 Class     Images  Instances      Box(P          R      mAP50  mAP50-95)     Mask(P          R      mAP50  mAP50-95): 100%|██████████| 63/63 [01:39<00:00,  1.58s/it]\n",
            "                   all       1000      65963      0.899      0.843      0.896      0.601      0.893      0.831      0.885      0.522\n",
            "Speed: 0.6ms preprocess, 10.6ms inference, 0.0ms loss, 1.6ms postprocess per image\n",
            "Results saved to \u001b[1mAerial_Segmentation/train\u001b[0m\n"
          ]
        }
      ],
      "source": [
        "from ultralytics import YOLO\n",
        "model = YOLO(\"yolov8x-seg\") # segmentation 모델 : \"yolov8x-seg\", 모델이 너무 크면 yolov8n,s,m,l 사용가능\n",
        "results = model.train(\n",
        "    data=\"/content/drive/MyDrive/Hoin.yaml\",\n",
        "    imgsz= 1024,\n",
        "    epochs= 150,\n",
        "    batch= 8,\n",
        "    patience=5,\n",
        "    workers=16,\n",
        "    exist_ok=True,\n",
        "    project=\"Aerial_Segmentation\",\n",
        "    name=\"train\",\n",
        "    seed=6666666,\n",
        "    pretrained=False,\n",
        "    resume=False,\n",
        "    optimizer=\"NAdam\",\n",
        "    lr0=1e-3,\n",
        "    cos_lr=True,\n",
        "    val=True,\n",
        "    mask_ratio=4,\n",
        "    overlap_mask=True\n",
        "    )"
      ]
    },
    {
      "cell_type": "code",
      "execution_count": null,
      "metadata": {
        "colab": {
          "base_uri": "https://localhost:8080/",
          "height": 90
        },
        "id": "_ARr3oppi9i_",
        "outputId": "baa69361-1ff5-4058-f66d-8af95054a859"
      },
      "outputs": [
        {
          "name": "stdout",
          "output_type": "stream",
          "text": [
            "torch.Size([2, 224, 224])\n"
          ]
        },
        {
          "data": {
            "application/vnd.google.colaboratory.intrinsic+json": {
              "type": "string"
            },
            "text/plain": [
              "'mask_rle = rle_encode(mask_cpu.numpy())\\ntemp = rle_decode(mask_rle,(448,448))\\ntemp2 = np.zeros((224,224))\\nfor i in range(448) :\\n  for j in range(448) :\\n    if temp[i][j] == 1:\\n      i_reduce = int(i / 2)\\n      j_reduce = int(j / 2)\\n      temp2[i_reduce][j_reduce] = 1\\ntemp3 = rle_encode(temp2)\\nprint(temp3)'"
            ]
          },
          "execution_count": 11,
          "metadata": {},
          "output_type": "execute_result"
        }
      ],
      "source": [
        "mask = result[0].masks\n",
        "mask_xy_8 = mask.data\n",
        "print(mask_xy_8.shape)\n",
        "mask_xy= mask_xy_8.any(dim=0).int()\n",
        "mask_cpu= mask_xy.cpu()\n",
        "mask_rle = rle_encode(mask_cpu.numpy())\n",
        "\"\"\"mask_rle = rle_encode(mask_cpu.numpy())\n",
        "temp = rle_decode(mask_rle,(448,448))\n",
        "temp2 = np.zeros((224,224))\n",
        "for i in range(448) :\n",
        "  for j in range(448) :\n",
        "    if temp[i][j] == 1:\n",
        "      i_reduce = int(i / 2)\n",
        "      j_reduce = int(j / 2)\n",
        "      temp2[i_reduce][j_reduce] = 1\n",
        "temp3 = rle_encode(temp2)\n",
        "print(temp3)\"\"\"\n",
        "\n",
        "\n",
        "# mask_224를 numpy 배열로 변환합니다.\n",
        "\n",
        "# 다운샘플링된 temp2를 이용하여 새로운 RLE 인코딩을 생성합니다.\n"
      ]
    },
    {
      "cell_type": "code",
      "execution_count": null,
      "metadata": {
        "colab": {
          "base_uri": "https://localhost:8080/"
        },
        "id": "y5MuFJKeaFzu",
        "outputId": "dac4a84e-5403-4bda-e8dc-52019edce045"
      },
      "outputs": [
        {
          "name": "stderr",
          "output_type": "stream",
          "text": [
            "Results saved to \u001b[1mruns/segment/predict\u001b[0m\n"
          ]
        }
      ],
      "source": [
        "results = model.predict(\"/content/test_img\",\n",
        "                          imgsz=(224,224), iou=0.7, conf=0.25,\n",
        "                          save_conf=False, save=True, save_txt=False,\n",
        "                          name=\"predict\", exist_ok=True, device=0,verbose=False, show_labels=False, retina_masks=True, augment=False)"
      ]
    }
  ],
  "metadata": {
    "accelerator": "GPU",
    "colab": {
      "machine_shape": "hm",
      "provenance": []
    },
    "kernelspec": {
      "display_name": "Python 3",
      "name": "python3"
    },
    "language_info": {
      "name": "python"
    }
  },
  "nbformat": 4,
  "nbformat_minor": 0
}